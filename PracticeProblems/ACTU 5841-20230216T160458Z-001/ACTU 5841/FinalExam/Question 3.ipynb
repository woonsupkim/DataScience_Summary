{
 "cells": [
  {
   "cell_type": "code",
   "execution_count": 1,
   "id": "36c7e4db",
   "metadata": {},
   "outputs": [],
   "source": [
    "#Importing libraries\n",
    "import pandas as pd\n",
    "import numpy as np\n",
    "import matplotlib.pyplot as plt\n",
    "import warnings\n",
    "warnings.filterwarnings(\"ignore\")"
   ]
  },
  {
   "cell_type": "code",
   "execution_count": 2,
   "id": "5d41130d",
   "metadata": {},
   "outputs": [],
   "source": [
    "#Reading data file\n",
    "df3 = pd.read_csv('data_prepared.csv')"
   ]
  },
  {
   "cell_type": "code",
   "execution_count": 3,
   "id": "30c7d3aa",
   "metadata": {},
   "outputs": [],
   "source": [
    "df3 = df3.loc[df3['Security Type'] == 'Common Stock']"
   ]
  },
  {
   "cell_type": "code",
   "execution_count": 4,
   "id": "c13b46b2",
   "metadata": {},
   "outputs": [],
   "source": [
    "df3 = df3.dropna()"
   ]
  },
  {
   "cell_type": "code",
   "execution_count": 5,
   "id": "3d177bf0",
   "metadata": {},
   "outputs": [],
   "source": [
    "#Select appropriate features\n",
    "features3 = [\"Security Price\", \"Volume (90 Day Avg)\", \"Market Capitalization\", \"Dividend Yield\", \"Total Return (1 Yr Annualized)\", \"Beta (1 Year Annualized)\", \"Standard Deviation (1 Yr Annualized)\", \"S&P Global Market Intelligence Valuation\", \"S&P Global Market Intelligence Quality\", \"S&P Global Market Intelligence Growth Stability\", \"S&P Global Market Intelligence Financial Health\", \"Institutional Ownership\", \"Institutional Ownership (Last vs. Prior Qtr)\"]\n",
    "\n",
    "X3 = df3.copy()\n",
    "y3 = X3.pop('Equity Summary Score')\n",
    "X3 = X3.loc[:, features3]\n",
    "\n",
    "# Standardize\n",
    "X3_scaled = (X3 - X3.mean(axis=0)) / X3.std(axis=0)"
   ]
  },
  {
   "cell_type": "code",
   "execution_count": 6,
   "id": "b25a0682",
   "metadata": {},
   "outputs": [
    {
     "data": {
      "text/plain": [
       "array([[-3.82945293e-02, -1.06459373e-01, -9.93556736e-02,\n",
       "         2.04309002e-01, -5.52529672e-02, -2.10848575e-01,\n",
       "        -1.84345810e-01, -5.59222000e-01, -4.93120014e-01,\n",
       "        -2.48923782e-01, -4.65112777e-01, -9.72633414e-02,\n",
       "         1.02191622e-01],\n",
       "       [ 7.82242861e-02, -1.97747063e-01, -1.75788512e-01,\n",
       "        -4.33439610e-01, -2.81397526e-01,  5.21983071e-01,\n",
       "         4.78283172e-01, -1.27739192e-01, -1.72179913e-01,\n",
       "        -7.56572924e-02, -1.75876549e-01,  2.66303947e-01,\n",
       "         4.54122661e-02],\n",
       "       [ 3.36246343e-01,  5.13559863e-01,  5.99247148e-01,\n",
       "        -6.25030957e-02,  1.30461704e-01,  2.19018140e-01,\n",
       "         1.54610024e-01, -1.84206579e-01, -9.27376646e-02,\n",
       "         1.85249008e-01, -2.07795344e-01, -2.26383614e-01,\n",
       "         4.40928826e-03],\n",
       "       [ 6.32863149e-01, -3.21623966e-01,  1.66448110e-01,\n",
       "        -2.48884601e-01,  3.98851355e-02, -1.78550199e-01,\n",
       "        -3.96651875e-01, -3.46370708e-02,  1.77353986e-01,\n",
       "         2.39949629e-02, -1.40112653e-01,  4.02201056e-01,\n",
       "        -3.10300993e-02],\n",
       "       [-1.01316731e-01, -1.73654112e-01, -2.57122810e-01,\n",
       "        -2.32887417e-02,  6.28997982e-01, -6.98235245e-03,\n",
       "         1.55944217e-01, -1.53045188e-01, -1.18188583e-02,\n",
       "         6.04955469e-01, -2.20110197e-01,  6.66614914e-02,\n",
       "        -1.74622342e-01],\n",
       "       [-4.41962875e-02,  7.69457208e-04, -4.92053821e-03,\n",
       "        -1.29303290e-01,  2.09860851e-01, -8.22677834e-02,\n",
       "         4.75461111e-02,  7.55516598e-03,  9.03992197e-02,\n",
       "         3.97987294e-02,  2.09973751e-02,  2.13675707e-02,\n",
       "         9.57873606e-01],\n",
       "       [-3.83606852e-01,  4.12482386e-01,  1.65854669e-01,\n",
       "        -5.54075718e-02,  3.15757766e-02, -1.01124995e-01,\n",
       "        -1.18847058e-01,  3.11342431e-02, -2.23055439e-01,\n",
       "         2.53411113e-02, -1.32399839e-02,  7.57801348e-01,\n",
       "        -3.12242721e-02],\n",
       "       [-8.95713084e-02,  1.06221979e-01, -1.44977995e-02,\n",
       "        -3.58860189e-01,  5.28798112e-01, -1.06004183e-01,\n",
       "         1.32822778e-01, -1.38744831e-02,  2.11799366e-01,\n",
       "        -6.72170333e-01, -1.11242817e-01, -6.52293095e-02,\n",
       "        -1.72344346e-01],\n",
       "       [ 3.43839137e-01, -8.13099184e-02, -1.20576956e-02,\n",
       "         6.21832568e-01,  3.24975985e-01,  2.30509559e-01,\n",
       "         2.48561068e-01, -5.61834936e-03, -1.61625301e-01,\n",
       "        -2.62145194e-01,  2.92768949e-01,  2.91191478e-01,\n",
       "         4.93459325e-02],\n",
       "       [ 9.69327733e-02, -1.11091282e-01,  7.99093838e-02,\n",
       "        -3.92407386e-01,  1.26576938e-01, -2.38842675e-01,\n",
       "         2.64350628e-02, -2.00024489e-02, -6.18060523e-01,\n",
       "         5.67285604e-02,  5.78795106e-01, -1.44627159e-01,\n",
       "        -5.08872637e-02],\n",
       "       [ 2.48890296e-01,  1.66609115e-01, -2.44906674e-01,\n",
       "         1.77087208e-02,  2.41271458e-02, -1.50391419e-01,\n",
       "         7.12404087e-02,  7.18376024e-01, -3.64339564e-01,\n",
       "        -1.79042962e-02, -4.09696119e-01, -6.17588732e-02,\n",
       "         3.05645189e-02],\n",
       "       [-3.47399381e-01, -5.57485973e-01,  6.06555536e-01,\n",
       "         7.12019454e-02,  1.13829134e-01,  1.68960386e-01,\n",
       "        -3.00504005e-02,  3.02080632e-01, -1.46190006e-01,\n",
       "        -5.45864597e-02, -1.88658109e-01, -4.34885429e-02,\n",
       "         6.99795445e-03],\n",
       "       [ 3.44596777e-02, -1.15298911e-01,  2.10120507e-01,\n",
       "         9.68648453e-02, -2.08989586e-01, -6.43118860e-01,\n",
       "         6.55148438e-01, -5.85783837e-02,  1.48226953e-01,\n",
       "         4.65972922e-02, -6.57815290e-02,  1.08507342e-01,\n",
       "        -4.25706248e-02]])"
      ]
     },
     "execution_count": 6,
     "metadata": {},
     "output_type": "execute_result"
    }
   ],
   "source": [
    "from sklearn.decomposition import PCA\n",
    "from sklearn.preprocessing import StandardScaler\n",
    "\n",
    "pca_s = PCA().fit(StandardScaler().fit_transform(X3)) \n",
    "pca_s.components_"
   ]
  },
  {
   "cell_type": "markdown",
   "id": "4257353c",
   "metadata": {},
   "source": [
    "#### Part a"
   ]
  },
  {
   "cell_type": "code",
   "execution_count": 7,
   "id": "e9d35b67",
   "metadata": {},
   "outputs": [],
   "source": [
    "# plotting variance\n",
    "def plot_variance(pca, width=8, dpi=100):\n",
    "    # Create figure\n",
    "    fig, axs = plt.subplots(1, 2)\n",
    "    n = pca.n_components_\n",
    "    grid = np.arange(1, n + 1)\n",
    "    # Explained variance\n",
    "    evr = pca.explained_variance_ratio_\n",
    "    axs[0].bar(grid, evr)\n",
    "    axs[0].set(\n",
    "        xlabel=\"Component\", title=\"% Explained Variance\", ylim=(0.0, 1.0)\n",
    "    )\n",
    "    # Cumulative Variance\n",
    "    cv = np.cumsum(evr)\n",
    "    axs[1].plot(np.r_[0, grid], np.r_[0, cv], \"o-\")\n",
    "    axs[1].set(\n",
    "        xlabel=\"Component\", title=\"% Cumulative Variance\", ylim=(0.0, 1.0)\n",
    "    )\n",
    "    # Set up figure\n",
    "    fig.set(figwidth=8, dpi=100)\n",
    "    return axs"
   ]
  },
  {
   "cell_type": "code",
   "execution_count": 8,
   "id": "0a63166d",
   "metadata": {},
   "outputs": [
    {
     "data": {
      "image/png": "[encoded data removed]",
      "text/plain": [
       "<Figure size 800x400 with 2 Axes>"
      ]
     },
     "metadata": {
      "needs_background": "light"
     },
     "output_type": "display_data"
    }
   ],
   "source": [
    "# Look at explained variance\n",
    "plot_variance(pca_s);"
   ]
  },
  {
   "cell_type": "markdown",
   "id": "4ea4316e",
   "metadata": {},
   "source": [
    "#### Part b"
   ]
  },
  {
   "cell_type": "code",
   "execution_count": 9,
   "id": "f2f0ad4c",
   "metadata": {},
   "outputs": [],
   "source": [
    "# 10-Fold Cross Validation\n",
    "def cross_validation (df, func):\n",
    "    from sklearn.model_selection import KFold\n",
    "    kf = KFold(n_splits = 10, shuffle = True, random_state = 10)\n",
    "    kf_rmse = []\n",
    "    \n",
    "    for train, test in kf.split(df):\n",
    "        X_train = df.iloc[train].loc[:, df.columns != 'Equity Summary Score']\n",
    "        X_train = X_train.squeeze()\n",
    "        X_test = df.iloc[test].loc[:, df.columns != 'Equity Summary Score']\n",
    "        y_train = df.iloc[train].loc[:,'Equity Summary Score']\n",
    "        y_test = df.iloc[test].loc[:,'Equity Summary Score']\n",
    "        \n",
    "        reg = func.fit(X_train, y_train)\n",
    "        y_hat = reg.predict(X_test)\n",
    "        \n",
    "        from sklearn.metrics import mean_squared_error\n",
    "        kf_rmse.append(mean_squared_error(y_test, y_hat, squared=False))\n",
    "        \n",
    "    kf_RMSE = (1/10) * np.sum(kf_rmse)\n",
    "        \n",
    "    return (kf_RMSE)"
   ]
  },
  {
   "cell_type": "code",
   "execution_count": 10,
   "id": "be394bb0",
   "metadata": {},
   "outputs": [],
   "source": [
    "from sklearn.pipeline import make_pipeline\n",
    "from sklearn.linear_model import LinearRegression\n",
    "\n",
    "mse3 = []\n",
    "\n",
    "df_3 = pd.concat([X3_scaled, y3], axis = 1)\n",
    "\n",
    "for i in range(1,14,1):\n",
    "    reg = make_pipeline(PCA(n_components=i), LinearRegression()).fit(X3_scaled, y3)\n",
    "    y_hat = reg.predict(X3_scaled)\n",
    "    mse3.append(cross_validation(df_3,make_pipeline(PCA(n_components=i), LinearRegression())))"
   ]
  },
  {
   "cell_type": "code",
   "execution_count": 11,
   "id": "c909f7a2",
   "metadata": {},
   "outputs": [
    {
     "data": {
      "text/html": [
       "<div>\n",
       "<style scoped>\n",
       "    .dataframe tbody tr th:only-of-type {\n",
       "        vertical-align: middle;\n",
       "    }\n",
       "\n",
       "    .dataframe tbody tr th {\n",
       "        vertical-align: top;\n",
       "    }\n",
       "\n",
       "    .dataframe thead th {\n",
       "        text-align: right;\n",
       "    }\n",
       "</style>\n",
       "<table border=\"1\" class=\"dataframe\">\n",
       "  <thead>\n",
       "    <tr style=\"text-align: right;\">\n",
       "      <th></th>\n",
       "      <th>PC</th>\n",
       "      <th>rmse</th>\n",
       "    </tr>\n",
       "  </thead>\n",
       "  <tbody>\n",
       "    <tr>\n",
       "      <th>11</th>\n",
       "      <td>12.0</td>\n",
       "      <td>2.159135</td>\n",
       "    </tr>\n",
       "  </tbody>\n",
       "</table>\n",
       "</div>"
      ],
      "text/plain": [
       "      PC      rmse\n",
       "11  12.0  2.159135"
      ]
     },
     "execution_count": 11,
     "metadata": {},
     "output_type": "execute_result"
    }
   ],
   "source": [
    "rmse_PCR = pd.DataFrame(zip(np.linspace(1,len(mse3),len(mse3)), mse3), columns = ['PC','rmse'])\n",
    "rmse_PCR.loc[rmse_PCR['rmse'] == rmse_PCR['rmse'].min()]"
   ]
  },
  {
   "cell_type": "markdown",
   "id": "194a0d77",
   "metadata": {},
   "source": [
    "#### Part b1"
   ]
  },
  {
   "cell_type": "code",
   "execution_count": 12,
   "id": "1ebf17db",
   "metadata": {},
   "outputs": [
    {
     "data": {
      "image/png": "[encoded data removed]",
      "text/plain": [
       "<Figure size 432x288 with 1 Axes>"
      ]
     },
     "metadata": {
      "needs_background": "light"
     },
     "output_type": "display_data"
    }
   ],
   "source": [
    "x = rmse_PCR['PC']\n",
    "y = rmse_PCR['rmse']\n",
    "\n",
    "plt.plot(x, y)\n",
    "plt.xlim(1, 13) \n",
    "plt.ylabel('10-CV RMSE')\n",
    "plt.xlabel('PCs')\n",
    "plt.grid()\n",
    "plt.show()"
   ]
  },
  {
   "cell_type": "markdown",
   "id": "e59b4d54",
   "metadata": {},
   "source": [
    "#### Part b2"
   ]
  },
  {
   "cell_type": "code",
   "execution_count": 13,
   "id": "9c7a349e",
   "metadata": {},
   "outputs": [],
   "source": [
    "#The optimal number of PCs to include in the PCR is 12 as it returned the lowest 10-CV RMSE\n",
    "#However, looking at the cumulated % of variance explained plot, one may find it desirable to select the minimum\n",
    "#number of PCs that can sufficiently explain the variance in the data (ex. 7 PCs explain 80% of the variance)"
   ]
  },
  {
   "cell_type": "markdown",
   "id": "732e655a",
   "metadata": {},
   "source": [
    "#### Part b3"
   ]
  },
  {
   "cell_type": "code",
   "execution_count": 14,
   "id": "6c204f00",
   "metadata": {},
   "outputs": [
    {
     "name": "stdout",
     "output_type": "stream",
     "text": [
      "PC_s\n",
      " [[-3.82945293e-02 -1.06459373e-01 -9.93556736e-02  2.04309002e-01\n",
      "  -5.52529672e-02 -2.10848575e-01 -1.84345810e-01 -5.59222000e-01\n",
      "  -4.93120014e-01 -2.48923782e-01 -4.65112777e-01 -9.72633414e-02\n",
      "   1.02191622e-01]\n",
      " [ 7.82242861e-02 -1.97747063e-01 -1.75788512e-01 -4.33439610e-01\n",
      "  -2.81397526e-01  5.21983071e-01  4.78283172e-01 -1.27739192e-01\n",
      "  -1.72179913e-01 -7.56572924e-02 -1.75876549e-01  2.66303947e-01\n",
      "   4.54122661e-02]\n",
      " [ 3.36246343e-01  5.13559863e-01  5.99247148e-01 -6.25030957e-02\n",
      "   1.30461704e-01  2.19018140e-01  1.54610024e-01 -1.84206579e-01\n",
      "  -9.27376646e-02  1.85249008e-01 -2.07795344e-01 -2.26383614e-01\n",
      "   4.40928826e-03]\n",
      " [ 6.32863149e-01 -3.21623966e-01  1.66448110e-01 -2.48884601e-01\n",
      "   3.98851355e-02 -1.78550199e-01 -3.96651875e-01 -3.46370708e-02\n",
      "   1.77353986e-01  2.39949629e-02 -1.40112653e-01  4.02201056e-01\n",
      "  -3.10300993e-02]\n",
      " [-1.01316731e-01 -1.73654112e-01 -2.57122810e-01 -2.32887417e-02\n",
      "   6.28997982e-01 -6.98235245e-03  1.55944217e-01 -1.53045188e-01\n",
      "  -1.18188583e-02  6.04955469e-01 -2.20110197e-01  6.66614914e-02\n",
      "  -1.74622342e-01]\n",
      " [-4.41962875e-02  7.69457208e-04 -4.92053821e-03 -1.29303290e-01\n",
      "   2.09860851e-01 -8.22677834e-02  4.75461111e-02  7.55516598e-03\n",
      "   9.03992197e-02  3.97987294e-02  2.09973751e-02  2.13675707e-02\n",
      "   9.57873606e-01]\n",
      " [-3.83606852e-01  4.12482386e-01  1.65854669e-01 -5.54075718e-02\n",
      "   3.15757766e-02 -1.01124995e-01 -1.18847058e-01  3.11342431e-02\n",
      "  -2.23055439e-01  2.53411113e-02 -1.32399839e-02  7.57801348e-01\n",
      "  -3.12242721e-02]\n",
      " [-8.95713084e-02  1.06221979e-01 -1.44977995e-02 -3.58860189e-01\n",
      "   5.28798112e-01 -1.06004183e-01  1.32822778e-01 -1.38744831e-02\n",
      "   2.11799366e-01 -6.72170333e-01 -1.11242817e-01 -6.52293095e-02\n",
      "  -1.72344346e-01]\n",
      " [ 3.43839137e-01 -8.13099184e-02 -1.20576956e-02  6.21832568e-01\n",
      "   3.24975985e-01  2.30509559e-01  2.48561068e-01 -5.61834936e-03\n",
      "  -1.61625301e-01 -2.62145194e-01  2.92768949e-01  2.91191478e-01\n",
      "   4.93459325e-02]\n",
      " [ 9.69327733e-02 -1.11091282e-01  7.99093838e-02 -3.92407386e-01\n",
      "   1.26576938e-01 -2.38842675e-01  2.64350628e-02 -2.00024489e-02\n",
      "  -6.18060523e-01  5.67285604e-02  5.78795106e-01 -1.44627159e-01\n",
      "  -5.08872637e-02]\n",
      " [ 2.48890296e-01  1.66609115e-01 -2.44906674e-01  1.77087208e-02\n",
      "   2.41271458e-02 -1.50391419e-01  7.12404087e-02  7.18376024e-01\n",
      "  -3.64339564e-01 -1.79042962e-02 -4.09696119e-01 -6.17588732e-02\n",
      "   3.05645189e-02]\n",
      " [-3.47399381e-01 -5.57485973e-01  6.06555536e-01  7.12019454e-02\n",
      "   1.13829134e-01  1.68960386e-01 -3.00504005e-02  3.02080632e-01\n",
      "  -1.46190006e-01 -5.45864597e-02 -1.88658109e-01 -4.34885429e-02\n",
      "   6.99795445e-03]]\n"
     ]
    }
   ],
   "source": [
    "# PCA\n",
    "from sklearn.preprocessing import StandardScaler\n",
    "\n",
    "pca_s2 = PCA(n_components = 12).fit(StandardScaler().fit_transform(X3))    \n",
    "print('PC_s\\n', pca_s2.components_)  # each row is a PC"
   ]
  }
 ],
 "metadata": {
  "kernelspec": {
   "display_name": "env_ds_3_10",
   "language": "python",
   "name": "env_ds_3_10"
  },
  "language_info": {
   "codemirror_mode": {
    "name": "ipython",
    "version": 3
   },
   "file_extension": ".py",
   "mimetype": "text/x-python",
   "name": "python",
   "nbconvert_exporter": "python",
   "pygments_lexer": "ipython3",
   "version": "3.10.1"
  }
 },
 "nbformat": 4,
 "nbformat_minor": 5
}
