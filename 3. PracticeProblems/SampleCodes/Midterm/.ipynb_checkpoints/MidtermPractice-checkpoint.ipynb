{
 "cells": [
  {
   "cell_type": "code",
   "execution_count": 1,
   "id": "bf75d7c3",
   "metadata": {},
   "outputs": [],
   "source": [
    "## Assignment 3"
   ]
  },
  {
   "cell_type": "code",
   "execution_count": null,
   "id": "e579681d",
   "metadata": {},
   "outputs": [],
   "source": [
    "import pandas as pd\n",
    "import numpy as np\n",
    "import matplotlib.pyplot as plt"
   ]
  },
  {
   "cell_type": "code",
   "execution_count": 33,
   "id": "320af34a",
   "metadata": {},
   "outputs": [
    {
     "data": {
      "text/html": [
       "<div>\n",
       "<style scoped>\n",
       "    .dataframe tbody tr th:only-of-type {\n",
       "        vertical-align: middle;\n",
       "    }\n",
       "\n",
       "    .dataframe tbody tr th {\n",
       "        vertical-align: top;\n",
       "    }\n",
       "\n",
       "    .dataframe thead th {\n",
       "        text-align: right;\n",
       "    }\n",
       "</style>\n",
       "<table border=\"1\" class=\"dataframe\">\n",
       "  <thead>\n",
       "    <tr style=\"text-align: right;\">\n",
       "      <th></th>\n",
       "      <th>MARSTAT</th>\n",
       "      <th>EDUCATION</th>\n",
       "      <th>NUMHH</th>\n",
       "      <th>INCOME</th>\n",
       "      <th>FACE</th>\n",
       "    </tr>\n",
       "  </thead>\n",
       "  <tbody>\n",
       "    <tr>\n",
       "      <th>0</th>\n",
       "      <td>1</td>\n",
       "      <td>16</td>\n",
       "      <td>3</td>\n",
       "      <td>43000</td>\n",
       "      <td>20000</td>\n",
       "    </tr>\n",
       "    <tr>\n",
       "      <th>1</th>\n",
       "      <td>1</td>\n",
       "      <td>9</td>\n",
       "      <td>3</td>\n",
       "      <td>12000</td>\n",
       "      <td>130000</td>\n",
       "    </tr>\n",
       "    <tr>\n",
       "      <th>2</th>\n",
       "      <td>1</td>\n",
       "      <td>16</td>\n",
       "      <td>5</td>\n",
       "      <td>120000</td>\n",
       "      <td>1500000</td>\n",
       "    </tr>\n",
       "    <tr>\n",
       "      <th>3</th>\n",
       "      <td>1</td>\n",
       "      <td>17</td>\n",
       "      <td>4</td>\n",
       "      <td>40000</td>\n",
       "      <td>50000</td>\n",
       "    </tr>\n",
       "    <tr>\n",
       "      <th>4</th>\n",
       "      <td>1</td>\n",
       "      <td>15</td>\n",
       "      <td>2</td>\n",
       "      <td>25000</td>\n",
       "      <td>0</td>\n",
       "    </tr>\n",
       "  </tbody>\n",
       "</table>\n",
       "</div>"
      ],
      "text/plain": [
       "   MARSTAT  EDUCATION  NUMHH  INCOME     FACE\n",
       "0        1         16      3   43000    20000\n",
       "1        1          9      3   12000   130000\n",
       "2        1         16      5  120000  1500000\n",
       "3        1         17      4   40000    50000\n",
       "4        1         15      2   25000        0"
      ]
     },
     "execution_count": 33,
     "metadata": {},
     "output_type": "execute_result"
    }
   ],
   "source": [
    "df = pd.read_csv('data3.csv')\n",
    "df.head()"
   ]
  },
  {
   "cell_type": "code",
   "execution_count": 34,
   "id": "5cbafa06",
   "metadata": {},
   "outputs": [
    {
     "data": {
      "text/html": [
       "<div>\n",
       "<style scoped>\n",
       "    .dataframe tbody tr th:only-of-type {\n",
       "        vertical-align: middle;\n",
       "    }\n",
       "\n",
       "    .dataframe tbody tr th {\n",
       "        vertical-align: top;\n",
       "    }\n",
       "\n",
       "    .dataframe thead th {\n",
       "        text-align: right;\n",
       "    }\n",
       "</style>\n",
       "<table border=\"1\" class=\"dataframe\">\n",
       "  <thead>\n",
       "    <tr style=\"text-align: right;\">\n",
       "      <th></th>\n",
       "      <th>MARSTAT</th>\n",
       "      <th>EDUCATION</th>\n",
       "      <th>NUMHH</th>\n",
       "      <th>INCOME</th>\n",
       "      <th>FACE</th>\n",
       "    </tr>\n",
       "  </thead>\n",
       "  <tbody>\n",
       "    <tr>\n",
       "      <th>1</th>\n",
       "      <td>1</td>\n",
       "      <td>9</td>\n",
       "      <td>3</td>\n",
       "      <td>12000</td>\n",
       "      <td>130000</td>\n",
       "    </tr>\n",
       "    <tr>\n",
       "      <th>2</th>\n",
       "      <td>1</td>\n",
       "      <td>16</td>\n",
       "      <td>5</td>\n",
       "      <td>120000</td>\n",
       "      <td>1500000</td>\n",
       "    </tr>\n",
       "    <tr>\n",
       "      <th>3</th>\n",
       "      <td>1</td>\n",
       "      <td>17</td>\n",
       "      <td>4</td>\n",
       "      <td>40000</td>\n",
       "      <td>50000</td>\n",
       "    </tr>\n",
       "    <tr>\n",
       "      <th>5</th>\n",
       "      <td>2</td>\n",
       "      <td>11</td>\n",
       "      <td>4</td>\n",
       "      <td>28000</td>\n",
       "      <td>220000</td>\n",
       "    </tr>\n",
       "    <tr>\n",
       "      <th>7</th>\n",
       "      <td>1</td>\n",
       "      <td>16</td>\n",
       "      <td>3</td>\n",
       "      <td>100000</td>\n",
       "      <td>600000</td>\n",
       "    </tr>\n",
       "  </tbody>\n",
       "</table>\n",
       "</div>"
      ],
      "text/plain": [
       "   MARSTAT  EDUCATION  NUMHH  INCOME     FACE\n",
       "1        1          9      3   12000   130000\n",
       "2        1         16      5  120000  1500000\n",
       "3        1         17      4   40000    50000\n",
       "5        2         11      4   28000   220000\n",
       "7        1         16      3  100000   600000"
      ]
     },
     "execution_count": 34,
     "metadata": {},
     "output_type": "execute_result"
    }
   ],
   "source": [
    "df = df[df['FACE']>= 50000]\n",
    "df.head()"
   ]
  },
  {
   "cell_type": "code",
   "execution_count": 35,
   "id": "3165c830",
   "metadata": {},
   "outputs": [],
   "source": [
    "from sklearn.preprocessing import PowerTransformer\n",
    "pt = PowerTransformer(method = 'box-cox', standardize = False)\n",
    "\n",
    "FACEbc = np.array(df['FACE'])\n",
    "FACEbc = FACEbc.reshape(-1,1)\n",
    "\n",
    "pt.fit(FACEbc)\n",
    "\n",
    "FACEbc = pt.transform(FACEbc)\n",
    "df['FACEbc'] = FACEbc"
   ]
  },
  {
   "cell_type": "code",
   "execution_count": 36,
   "id": "9d3d2a37",
   "metadata": {},
   "outputs": [
    {
     "data": {
      "image/png": "[encoded data removed]",
      "text/plain": [
       "<Figure size 432x288 with 2 Axes>"
      ]
     },
     "metadata": {
      "needs_background": "light"
     },
     "output_type": "display_data"
    }
   ],
   "source": [
    "skew1 = round(df['FACE'].skew(),3)\n",
    "skew2 = round(df['FACEbc'].skew(),3)\n",
    "lambdas = pt.lambdas_[0]\n",
    "\n",
    "f, (ax1, ax2) = plt.subplots(1,2)\n",
    "ax1.hist(df['FACE'])\n",
    "ax1.set_title('historgram: skew = %s' % skew1)\n",
    "ax1.set_xlabel('original')\n",
    "\n",
    "ax2.hist(df['FACEbc'])\n",
    "ax2.set_title('histogram: skew = %s' % skew2)\n",
    "ax2.set_xlabel('optimal transformation: %s = %s' % (chr(0x03BB), round(lambdas,3)))\n",
    "\n",
    "plt.show()"
   ]
  },
  {
   "cell_type": "code",
   "execution_count": 37,
   "id": "53feb6b7",
   "metadata": {},
   "outputs": [
    {
     "data": {
      "text/html": [
       "<div>\n",
       "<style scoped>\n",
       "    .dataframe tbody tr th:only-of-type {\n",
       "        vertical-align: middle;\n",
       "    }\n",
       "\n",
       "    .dataframe tbody tr th {\n",
       "        vertical-align: top;\n",
       "    }\n",
       "\n",
       "    .dataframe thead th {\n",
       "        text-align: right;\n",
       "    }\n",
       "</style>\n",
       "<table border=\"1\" class=\"dataframe\">\n",
       "  <thead>\n",
       "    <tr style=\"text-align: right;\">\n",
       "      <th></th>\n",
       "      <th>EDUCATION</th>\n",
       "      <th>NUMHH</th>\n",
       "      <th>INCOME</th>\n",
       "      <th>FACE</th>\n",
       "      <th>FACEbc</th>\n",
       "      <th>MARSTAT_0</th>\n",
       "      <th>MARSTAT_1</th>\n",
       "      <th>MARSTAT_2</th>\n",
       "      <th>logINCOME</th>\n",
       "    </tr>\n",
       "  </thead>\n",
       "  <tbody>\n",
       "    <tr>\n",
       "      <th>1</th>\n",
       "      <td>9</td>\n",
       "      <td>3</td>\n",
       "      <td>12000</td>\n",
       "      <td>130000</td>\n",
       "      <td>4.489410</td>\n",
       "      <td>0</td>\n",
       "      <td>1</td>\n",
       "      <td>0</td>\n",
       "      <td>9.392662</td>\n",
       "    </tr>\n",
       "    <tr>\n",
       "      <th>2</th>\n",
       "      <td>16</td>\n",
       "      <td>5</td>\n",
       "      <td>120000</td>\n",
       "      <td>1500000</td>\n",
       "      <td>4.667959</td>\n",
       "      <td>0</td>\n",
       "      <td>1</td>\n",
       "      <td>0</td>\n",
       "      <td>11.695247</td>\n",
       "    </tr>\n",
       "    <tr>\n",
       "      <th>3</th>\n",
       "      <td>17</td>\n",
       "      <td>4</td>\n",
       "      <td>40000</td>\n",
       "      <td>50000</td>\n",
       "      <td>4.391879</td>\n",
       "      <td>0</td>\n",
       "      <td>1</td>\n",
       "      <td>0</td>\n",
       "      <td>10.596635</td>\n",
       "    </tr>\n",
       "    <tr>\n",
       "      <th>5</th>\n",
       "      <td>11</td>\n",
       "      <td>4</td>\n",
       "      <td>28000</td>\n",
       "      <td>220000</td>\n",
       "      <td>4.535591</td>\n",
       "      <td>0</td>\n",
       "      <td>0</td>\n",
       "      <td>1</td>\n",
       "      <td>10.239960</td>\n",
       "    </tr>\n",
       "    <tr>\n",
       "      <th>7</th>\n",
       "      <td>16</td>\n",
       "      <td>3</td>\n",
       "      <td>100000</td>\n",
       "      <td>600000</td>\n",
       "      <td>4.611143</td>\n",
       "      <td>0</td>\n",
       "      <td>1</td>\n",
       "      <td>0</td>\n",
       "      <td>11.512925</td>\n",
       "    </tr>\n",
       "  </tbody>\n",
       "</table>\n",
       "</div>"
      ],
      "text/plain": [
       "   EDUCATION  NUMHH  INCOME     FACE    FACEbc  MARSTAT_0  MARSTAT_1  \\\n",
       "1          9      3   12000   130000  4.489410          0          1   \n",
       "2         16      5  120000  1500000  4.667959          0          1   \n",
       "3         17      4   40000    50000  4.391879          0          1   \n",
       "5         11      4   28000   220000  4.535591          0          0   \n",
       "7         16      3  100000   600000  4.611143          0          1   \n",
       "\n",
       "   MARSTAT_2  logINCOME  \n",
       "1          0   9.392662  \n",
       "2          0  11.695247  \n",
       "3          0  10.596635  \n",
       "5          1  10.239960  \n",
       "7          0  11.512925  "
      ]
     },
     "execution_count": 37,
     "metadata": {},
     "output_type": "execute_result"
    }
   ],
   "source": [
    "df = pd.get_dummies(df, columns = ['MARSTAT'])\n",
    "df['logINCOME'] = np.log(df['INCOME'])\n",
    "df.head()"
   ]
  },
  {
   "cell_type": "code",
   "execution_count": 38,
   "id": "f2b609cd",
   "metadata": {},
   "outputs": [
    {
     "name": "stdout",
     "output_type": "stream",
     "text": [
      "[ 4.054996    0.01335962  0.00759392  0.02511296 -0.04642982 -0.01841342]\n",
      "0.10323297449402534\n",
      "0.33359974845365026\n"
     ]
    }
   ],
   "source": [
    "from sklearn.linear_model import LinearRegression\n",
    "\n",
    "x = df[['EDUCATION', 'NUMHH', 'logINCOME', 'MARSTAT_0', 'MARSTAT_2']]\n",
    "y = df['FACEbc']\n",
    "\n",
    "reg = LinearRegression().fit(x,y)\n",
    "\n",
    "B = reg.coef_\n",
    "B = np.insert(B, 0, reg.intercept_, axis=0)\n",
    "print(B)\n",
    "\n",
    "SE = np.std(y, ddof=1)\n",
    "print(SE)\n",
    "\n",
    "y_pred = reg.predict(x)\n",
    "from sklearn.metrics import r2_score\n",
    "R2 = r2_score(y, y_pred)\n",
    "print(R2)"
   ]
  },
  {
   "cell_type": "code",
   "execution_count": 39,
   "id": "72c514db",
   "metadata": {},
   "outputs": [
    {
     "name": "stdout",
     "output_type": "stream",
     "text": [
      "                            OLS Regression Results                            \n",
      "==============================================================================\n",
      "Dep. Variable:                 FACEbc   R-squared:                       0.334\n",
      "Model:                            OLS   Adj. R-squared:                  0.318\n",
      "Method:                 Least Squares   F-statistic:                     20.72\n",
      "Date:                Tue, 08 Mar 2022   Prob (F-statistic):           9.13e-17\n",
      "Time:                        21:29:19   Log-Likelihood:                 225.17\n",
      "No. Observations:                 213   AIC:                            -438.3\n",
      "Df Residuals:                     207   BIC:                            -418.2\n",
      "Df Model:                           5                                         \n",
      "Covariance Type:            nonrobust                                         \n",
      "==============================================================================\n",
      "                 coef    std err          t      P>|t|      [0.025      0.975]\n",
      "------------------------------------------------------------------------------\n",
      "const          4.0550      0.060     67.405      0.000       3.936       4.174\n",
      "EDUCATION      0.0134      0.003      4.788      0.000       0.008       0.019\n",
      "NUMHH          0.0076      0.004      1.766      0.079      -0.001       0.016\n",
      "logINCOME      0.0251      0.005      5.089      0.000       0.015       0.035\n",
      "MARSTAT_0     -0.0464      0.018     -2.612      0.010      -0.081      -0.011\n",
      "MARSTAT_2     -0.0184      0.036     -0.513      0.609      -0.089       0.052\n",
      "==============================================================================\n",
      "Omnibus:                        1.561   Durbin-Watson:                   1.810\n",
      "Prob(Omnibus):                  0.458   Jarque-Bera (JB):                1.294\n",
      "Skew:                           0.009   Prob(JB):                        0.524\n",
      "Kurtosis:                       3.381   Cond. No.                         199.\n",
      "==============================================================================\n",
      "\n",
      "Notes:\n",
      "[1] Standard Errors assume that the covariance matrix of the errors is correctly specified.\n"
     ]
    }
   ],
   "source": [
    "import statsmodels.api as sm\n",
    "\n",
    "x = df[['EDUCATION', 'NUMHH', 'logINCOME', 'MARSTAT_0', 'MARSTAT_2']]\n",
    "y = df['FACEbc']\n",
    "\n",
    "x = sm.add_constant(x)\n",
    "\n",
    "lm = sm.OLS(y,x).fit()\n",
    "print(lm.summary())"
   ]
  },
  {
   "cell_type": "code",
   "execution_count": 40,
   "id": "2b0def94",
   "metadata": {},
   "outputs": [
    {
     "name": "stderr",
     "output_type": "stream",
     "text": [
      "C:\\Users\\Woon\\Documents\\env_ds_3_10\\lib\\site-packages\\sklearn\\base.py:450: UserWarning: X does not have valid feature names, but LinearRegression was fitted with feature names\n",
      "  warnings.warn(\n",
      "C:\\Users\\Woon\\Documents\\env_ds_3_10\\lib\\site-packages\\sklearn\\base.py:566: FutureWarning: Arrays of bytes/strings is being converted to decimal numbers if dtype='numeric'. This behavior is deprecated in 0.24 and will be removed in 1.1 (renaming of 0.26). Please convert your data to numeric values explicitly instead.\n",
      "  X = check_array(X, **check_params)\n"
     ]
    }
   ],
   "source": [
    "#x = df[['EDUCATION', 'NUMHH', 'logINCOME', 'MARSTAT_0', 'MARSTAT_2']]\n",
    "\n",
    "x_test = np.array([['16', '4', np.log(120000), '0', '1']])\n",
    "y_test = reg.predict(x_test)"
   ]
  },
  {
   "cell_type": "code",
   "execution_count": 41,
   "id": "852ac0ec",
   "metadata": {},
   "outputs": [],
   "source": [
    "lower = y_test - SE\n",
    "upper = y_test + SE"
   ]
  },
  {
   "cell_type": "code",
   "execution_count": 42,
   "id": "7177d750",
   "metadata": {},
   "outputs": [],
   "source": [
    "y_test_final = y_test.reshape(-1,1)\n",
    "y_test_final = pt.inverse_transform(y_test_final)\n",
    "\n",
    "lower_final = lower.reshape(-1,1)\n",
    "lower_final = pt.inverse_transform(lower_final)\n",
    "\n",
    "upper_final = upper.reshape(-1,1)\n",
    "upper_final = pt.inverse_transform(upper_final)"
   ]
  },
  {
   "cell_type": "code",
   "execution_count": 43,
   "id": "6d26bf3b",
   "metadata": {},
   "outputs": [
    {
     "name": "stdout",
     "output_type": "stream",
     "text": [
      "[[107163.68455263]]\n",
      "[[1786342.69872966]]\n",
      "[[359158.34297235]]\n"
     ]
    }
   ],
   "source": [
    "print(lower_final)\n",
    "print(upper_final)\n",
    "print(y_test_final)"
   ]
  },
  {
   "cell_type": "code",
   "execution_count": 44,
   "id": "e2352e5e",
   "metadata": {},
   "outputs": [],
   "source": [
    "## Assignment 4"
   ]
  },
  {
   "cell_type": "code",
   "execution_count": 45,
   "id": "1fb5bd62",
   "metadata": {},
   "outputs": [],
   "source": [
    "df = pd.read_csv('data4.csv')"
   ]
  },
  {
   "cell_type": "code",
   "execution_count": 144,
   "id": "86528422",
   "metadata": {},
   "outputs": [],
   "source": [
    "def calc_gradient(B, y, x):\n",
    "    #depends on the dimmension of B\n",
    "    \n",
    "    B = B.reshape(1,-1)\n",
    "\n",
    "    B0 = B[0,0] \n",
    "    B1 = B[0,1]\n",
    "    B2 = B[0,2]\n",
    "    B3 = B[0,3]\n",
    "    \n",
    "    f0 = -2*np.sin(B1*x-B2)*(y-B0*np.sin(B1*x-B2)-x*B3) # dR/dB_0\n",
    "    f1 = -2*B0*x*np.cos(B1*x-B2)*(y-B0*np.sin(B1*x-B2)-x*B3) # dR/dB_1\n",
    "    f2 = 2*(y-B0*np.sin(B1*x-B2)-x*B3)*B0*np.cos(-B2+B1*x) # dR/dB_1\n",
    "    f3 = -2*x*(y-B0*np.sin(B1*x-B2)-x*B3)# dR/dB_1\n",
    "    \n",
    "    return np.array([np.sum(f0), np.sum(f1), np.sum(f2), np.sum(f3)])\n",
    "\n",
    "def calc_Jacobian(B, y, x):\n",
    "    #depends on the dimmension of B\n",
    "    \n",
    "    B0 = B[0,0]\n",
    "    B1 = B[0,1]\n",
    "    \n",
    "    df0b0 = -2* (np.exp(B0+B1*x)*y - 2*np.exp(2*B1*x+2*B0)) # df0 / dB_0\n",
    "    df0b1 = -2* (np.exp(B0+B1*x)*x*y - 2*np.exp(2*B1*x+2*B0)*x) # df0 / dB_1\n",
    "    df1b0 = -2*x* (np.exp(B1*x+B0)*y - 2*np.exp(2*B1*x+2*B0)) # df1 / dB_0\n",
    "    df1b1 = -2*x* (np.exp(B1*x+B0)*x*y - 2*np.exp(2*B1*x+2*B0)*x) # df1 / dB_1\n",
    "    \n",
    "    return np.array([\n",
    "            [np.sum(df0b0), np.sum(df0b1)], \n",
    "            [np.sum(df1b0), np.sum(df1b1)]\n",
    "            ])\n",
    "\n"
   ]
  },
  {
   "cell_type": "code",
   "execution_count": 145,
   "id": "9de7e8cf",
   "metadata": {},
   "outputs": [],
   "source": [
    "def gradient_descent(x, y, B, learning_rate, max_iter):\n",
    "    \n",
    "    loss_history = []\n",
    "    iteration = 0\n",
    "    B_history = [B]\n",
    "    \n",
    "    for i in range(max_iter):\n",
    "        B = B.reshape(1,-1)\n",
    "    \n",
    "        B0 = B[0,0] \n",
    "        B1 = B[0,1]\n",
    "        B2 = B[0,2]\n",
    "        B3 = B[0,3]\n",
    "\n",
    "        y_hat = B0*np.sin(B1*x-B2)+B3*x\n",
    "        loss = np.sum((y-y_hat)**2)\n",
    "        \n",
    "        if iteration > 0:\n",
    "            if np.abs(loss - loss_history[0]) == 0:\n",
    "                iteration = iteration - 1\n",
    "                break\n",
    "                \n",
    "        loss_history.insert(0,loss)\n",
    "        \n",
    "        gradient = calc_gradient(B,y,x)\n",
    "        \n",
    "        diff = learning_rate * gradient\n",
    "\n",
    "        B = B-diff\n",
    "        B_history.append(B)\n",
    "        \n",
    "        iteration = iteration + 1\n",
    "        \n",
    "    return loss, learning_rate, B, iteration, loss_history"
   ]
  },
  {
   "cell_type": "code",
   "execution_count": 146,
   "id": "e4f32446",
   "metadata": {},
   "outputs": [],
   "source": [
    "B = np.array([0.1, 0.1, 0.1, 0.1])\n",
    "x = df['x']\n",
    "y = df['y']"
   ]
  },
  {
   "cell_type": "code",
   "execution_count": 151,
   "id": "65e317e9",
   "metadata": {},
   "outputs": [],
   "source": [
    "result = gradient_descent(x,y,B,0.00007,10000)"
   ]
  },
  {
   "cell_type": "code",
   "execution_count": 153,
   "id": "1ff25917",
   "metadata": {},
   "outputs": [],
   "source": [
    "loss = result[0]\n",
    "learning_rate = result[1]\n",
    "B_result = result[2]\n",
    "iteration = result[3]\n",
    "loss_history = result[4]"
   ]
  },
  {
   "cell_type": "code",
   "execution_count": 159,
   "id": "d69b8a81",
   "metadata": {},
   "outputs": [
    {
     "data": {
      "image/png": "[encoded data removed]",
      "text/plain": [
       "<Figure size 432x288 with 1 Axes>"
      ]
     },
     "metadata": {
      "needs_background": "light"
     },
     "output_type": "display_data"
    }
   ],
   "source": [
    "#updates of the loss\n",
    "#update number\n",
    "\n",
    "a = np.arange(0,iteration+1,1)\n",
    "b = np.flip(loss_history)\n",
    "b = (b - 22.298851605)/(0.000000000001)\n",
    "\n",
    "plt.plot(a,b)\n",
    "plt.show()"
   ]
  },
  {
   "cell_type": "code",
   "execution_count": 161,
   "id": "3843a6b3",
   "metadata": {},
   "outputs": [
    {
     "data": {
      "image/png": "[encoded data removed]",
      "text/plain": [
       "<Figure size 432x288 with 1 Axes>"
      ]
     },
     "metadata": {
      "needs_background": "light"
     },
     "output_type": "display_data"
    }
   ],
   "source": [
    "y_truth = 2 * np.sin(0.5*x-3)+0.1*x\n",
    "\n",
    "B_result = B_result.reshape(1,-1)\n",
    "    \n",
    "B0 = B_result[0,0] \n",
    "B1 = B_result[0,1]\n",
    "B2 = B_result[0,2]\n",
    "B3 = B_result[0,3]\n",
    "\n",
    "y_fitted = B0*np.sin(B1*x-B2)+B3*x\n",
    "\n",
    "plt.scatter(x,y, alpha=0.5)\n",
    "plt.plot(x,y_truth)\n",
    "plt.plot(x,y_fitted)\n",
    "plt.show()"
   ]
  },
  {
   "cell_type": "code",
   "execution_count": null,
   "id": "2f2a4d70",
   "metadata": {},
   "outputs": [],
   "source": []
  },
  {
   "cell_type": "code",
   "execution_count": 220,
   "id": "90abd66a",
   "metadata": {},
   "outputs": [],
   "source": [
    "df = pd.read_csv('data5.csv')"
   ]
  },
  {
   "cell_type": "code",
   "execution_count": 221,
   "id": "34920a97",
   "metadata": {},
   "outputs": [],
   "source": [
    "def calc_gradient2(B, y, x):\n",
    "    #depends on the dimmension of B\n",
    "    \n",
    "    B = B.reshape(1,-1)\n",
    "\n",
    "    B0 = B[0,0] \n",
    "    B1 = B[0,1]\n",
    "    \n",
    "    f0 =  -2*np.exp(B0+B1*x) * (y-np.exp(B0+B1*x)) # dR/dB_0    -2e^{B_0+B_1x}\\left(y-e^{B_0+B_1x}\\right)\n",
    "    f1 =  -2*np.exp(B1*x+B0)* x * (y-np.exp(B0+B1*x)) # dR/dB_1 -2e^{B_1x+B_0}x\\left(y-e^{B_0+B_1x}\\right)\n",
    "    \n",
    "    return np.array([np.sum(f0), np.sum(f1)])\n",
    "\n",
    "def calc_Jacobian(B, y, x):\n",
    "    #depends on the dimmension of B\n",
    "    \n",
    "    B0 = B[0,0]\n",
    "    B1 = B[0,1]\n",
    "    \n",
    "    df0b0 = -2*(np.exp(B0+B1*x)*y-2*np.exp(2*B1*x+2*B0)) # df0 / dB_0  -2\\left(e^{B_0+B_1x}y-2e^{2B_1x+2B_0}\\right)\n",
    "    df0b1 = -2*(np.exp(B0+B1*x)*x*y-2*np.exp(2*B1*x+2*B0)*x) # df0 / dB_1 -2\\left(e^{B_0+B_1x}xy-2e^{2B_1x+2B_0}x\\right)\n",
    "    df1b0 = -2*x*(np.exp(B1*x+B0)*y-2*np.exp(2*B1*x+2*B0)) # df1 / dB_0   -2x\\left(e^{B_1x+B_0}y-2e^{2B_1x+2B_0}\\right)\n",
    "    df1b1 = -2*x*(np.exp(B1*x+B0)*x*y - 2*np.exp(2*B1*x+2*B0)*x) # df1 / dB_1  -2x\\left(e^{B_1x+B_0}xy-2e^{2B_1x+2B_0}x\\right)\n",
    "\n",
    "    return np.array([\n",
    "            [np.sum(df0b0), np.sum(df0b1)], \n",
    "            [np.sum(df1b0), np.sum(df1b1)]\n",
    "            ])\n"
   ]
  },
  {
   "cell_type": "code",
   "execution_count": 222,
   "id": "63a7d282",
   "metadata": {},
   "outputs": [],
   "source": [
    "def newton_raphson(x, y, B, max_iter):\n",
    "    \n",
    "    loss_history = []\n",
    "    iteration = 0\n",
    "    B_history = [B]\n",
    "\n",
    "        \n",
    "    for i in range(max_iter):\n",
    "        B = B.reshape(1,-1)\n",
    "    \n",
    "        B0 = B[0,0] \n",
    "        B1 = B[0,1]\n",
    "        \n",
    "        y_hat = np.exp(B0 + B1*x)\n",
    "        loss = np.sum((y - y_hat)**2)\n",
    "                            \n",
    "        #stop if there are no improvements in the loss\n",
    "        if iteration > 0:\n",
    "            if np.abs(loss - loss_history[0]) == 0:\n",
    "                iteration = iteration - 1\n",
    "                break   \n",
    "        \n",
    "        #keep track of the loss for each iteration\n",
    "        loss_history.insert(0,loss)\n",
    "                \n",
    "        gradient = calc_gradient2(B,y,x)\n",
    "        Jacobian = calc_Jacobian(B,y,x)\n",
    "        diff = np.matmul(np.linalg.inv(Jacobian),gradient)\n",
    "        \n",
    "        B = B - diff\n",
    "        B_history.append(B)\n",
    "\n",
    "        iteration = iteration + 1       \n",
    "        \n",
    "        \n",
    "                \n",
    "    return loss, B, iteration, loss_history, B_history"
   ]
  },
  {
   "cell_type": "code",
   "execution_count": 223,
   "id": "0292e4c5",
   "metadata": {},
   "outputs": [],
   "source": [
    "B = np.array([0.5, 0.75])\n",
    "x = df['x']\n",
    "y = df['y']"
   ]
  },
  {
   "cell_type": "code",
   "execution_count": 224,
   "id": "77904884",
   "metadata": {},
   "outputs": [],
   "source": [
    "result = newton_raphson(x, y, B, 10)"
   ]
  },
  {
   "cell_type": "code",
   "execution_count": 254,
   "id": "a9231e30",
   "metadata": {},
   "outputs": [],
   "source": [
    "#10 Fold CV\n",
    "x = df['x']\n",
    "y = df['y']\n",
    "B = np.array([0.5, 0.75])\n",
    "B = B.reshape(1,-1)\n",
    "#kf_df = pd.DataFrame(zip(x,y), columns = ['x', 'y'])\n",
    "\n",
    "from sklearn.model_selection import KFold\n",
    "kf = KFold(n_splits = 10, shuffle = True, random_state = 10)\n",
    "kf_rmse = []\n",
    "\n",
    "for train, test in kf.split(df):\n",
    "    X_train = df.iloc[train].loc[:, df.columns != 'y']\n",
    "    X_train = X_train.squeeze()\n",
    "    X_test = df.iloc[test].loc[:, df.columns != 'y']\n",
    "    y_train = df.iloc[train].loc[:,'y']\n",
    "    y_test = df.iloc[test].loc[:,'y']\n",
    "\n",
    "    nr = newton_raphson(X_train,y_train,B,10000)\n",
    "    \n",
    "    y_hat = np.exp(nr[1][0,1] + nr[1][0,1]*X_test)\n",
    "    kf_rmse.append(mean_squared_error(y_test, y_hat, squared=False))\n",
    "\n",
    "kf_RMSE = (1/10) * np.sum(kf_rmse)"
   ]
  },
  {
   "cell_type": "code",
   "execution_count": 255,
   "id": "8b1ca386",
   "metadata": {},
   "outputs": [
    {
     "data": {
      "text/plain": [
       "1.9276722948217175"
      ]
     },
     "execution_count": 255,
     "metadata": {},
     "output_type": "execute_result"
    }
   ],
   "source": [
    "kf_RMSE"
   ]
  },
  {
   "cell_type": "code",
   "execution_count": 245,
   "id": "1fdb46f6",
   "metadata": {},
   "outputs": [],
   "source": [
    "x2 = df.loc[:, df.columns != 'y']"
   ]
  },
  {
   "cell_type": "code",
   "execution_count": 250,
   "id": "9e6421ba",
   "metadata": {},
   "outputs": [
    {
     "ename": "AttributeError",
     "evalue": "module 'pandas' has no attribute 'series'",
     "output_type": "error",
     "traceback": [
      "\u001b[1;31m---------------------------------------------------------------------------\u001b[0m",
      "\u001b[1;31mAttributeError\u001b[0m                            Traceback (most recent call last)",
      "Input \u001b[1;32mIn [250]\u001b[0m, in \u001b[0;36m<module>\u001b[1;34m\u001b[0m\n\u001b[0;32m      1\u001b[0m \u001b[38;5;28mtype\u001b[39m(x2)\n\u001b[1;32m----> 2\u001b[0m \u001b[43mpd\u001b[49m\u001b[38;5;241;43m.\u001b[39;49m\u001b[43mseries\u001b[49m(x2)\n\u001b[0;32m      3\u001b[0m \u001b[38;5;28mtype\u001b[39m(x2)\n",
      "File \u001b[1;32m~\\Documents\\env_ds_3_10\\lib\\site-packages\\pandas\\__init__.py:261\u001b[0m, in \u001b[0;36m__getattr__\u001b[1;34m(name)\u001b[0m\n\u001b[0;32m    257\u001b[0m     \u001b[38;5;28;01mfrom\u001b[39;00m \u001b[38;5;21;01mpandas\u001b[39;00m\u001b[38;5;21;01m.\u001b[39;00m\u001b[38;5;21;01mcore\u001b[39;00m\u001b[38;5;21;01m.\u001b[39;00m\u001b[38;5;21;01marrays\u001b[39;00m\u001b[38;5;21;01m.\u001b[39;00m\u001b[38;5;21;01msparse\u001b[39;00m \u001b[38;5;28;01mimport\u001b[39;00m SparseArray \u001b[38;5;28;01mas\u001b[39;00m _SparseArray\n\u001b[0;32m    259\u001b[0m     \u001b[38;5;28;01mreturn\u001b[39;00m _SparseArray\n\u001b[1;32m--> 261\u001b[0m \u001b[38;5;28;01mraise\u001b[39;00m \u001b[38;5;167;01mAttributeError\u001b[39;00m(\u001b[38;5;124mf\u001b[39m\u001b[38;5;124m\"\u001b[39m\u001b[38;5;124mmodule \u001b[39m\u001b[38;5;124m'\u001b[39m\u001b[38;5;124mpandas\u001b[39m\u001b[38;5;124m'\u001b[39m\u001b[38;5;124m has no attribute \u001b[39m\u001b[38;5;124m'\u001b[39m\u001b[38;5;132;01m{\u001b[39;00mname\u001b[38;5;132;01m}\u001b[39;00m\u001b[38;5;124m'\u001b[39m\u001b[38;5;124m\"\u001b[39m)\n",
      "\u001b[1;31mAttributeError\u001b[0m: module 'pandas' has no attribute 'series'"
     ]
    }
   ],
   "source": [
    "type(x2)\n",
    "pd.series(x2)\n",
    "type(x2)"
   ]
  },
  {
   "cell_type": "code",
   "execution_count": 249,
   "id": "fab22091",
   "metadata": {},
   "outputs": [
    {
     "data": {
      "text/plain": [
       "pandas.core.series.Series"
      ]
     },
     "execution_count": 249,
     "metadata": {},
     "output_type": "execute_result"
    }
   ],
   "source": [
    "x = df['x']\n",
    "type(x)"
   ]
  },
  {
   "cell_type": "code",
   "execution_count": 253,
   "id": "892c9422",
   "metadata": {},
   "outputs": [
    {
     "data": {
      "text/plain": [
       "pandas.core.series.Series"
      ]
     },
     "execution_count": 253,
     "metadata": {},
     "output_type": "execute_result"
    }
   ],
   "source": [
    "x2 = x2.squeeze()\n",
    "type(x2)"
   ]
  },
  {
   "cell_type": "code",
   "execution_count": null,
   "id": "ff9b7765",
   "metadata": {},
   "outputs": [],
   "source": []
  }
 ],
 "metadata": {
  "kernelspec": {
   "display_name": "env_ds_3_10",
   "language": "python",
   "name": "env_ds_3_10"
  },
  "language_info": {
   "codemirror_mode": {
    "name": "ipython",
    "version": 3
   },
   "file_extension": ".py",
   "mimetype": "text/x-python",
   "name": "python",
   "nbconvert_exporter": "python",
   "pygments_lexer": "ipython3",
   "version": "3.10.1"
  }
 },
 "nbformat": 4,
 "nbformat_minor": 5
}
