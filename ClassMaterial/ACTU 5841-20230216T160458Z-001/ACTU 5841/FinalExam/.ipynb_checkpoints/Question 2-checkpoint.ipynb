{
 "cells": [
  {
   "cell_type": "code",
   "execution_count": 1,
   "id": "718b9256",
   "metadata": {},
   "outputs": [],
   "source": [
    "#Importing libraries\n",
    "import pandas as pd\n",
    "import numpy as np\n",
    "import matplotlib.pyplot as plt\n",
    "import warnings\n",
    "warnings.filterwarnings(\"ignore\")"
   ]
  },
  {
   "cell_type": "code",
   "execution_count": 2,
   "id": "6a061d39",
   "metadata": {},
   "outputs": [],
   "source": [
    "#Reading data file\n",
    "df2 = pd.read_csv('data_prepared.csv')"
   ]
  },
  {
   "cell_type": "code",
   "execution_count": 3,
   "id": "dcd82b70",
   "metadata": {},
   "outputs": [],
   "source": [
    "df2 = df2.loc[df2['Security Type'] == 'Common Stock']"
   ]
  },
  {
   "cell_type": "code",
   "execution_count": 4,
   "id": "ba2955ae",
   "metadata": {},
   "outputs": [],
   "source": [
    "df2 = df2.dropna()"
   ]
  },
  {
   "cell_type": "code",
   "execution_count": 5,
   "id": "387d4f7a",
   "metadata": {},
   "outputs": [],
   "source": [
    "#Select appropriate features\n",
    "features = [\"Security Price\", \"Volume (90 Day Avg)\", \"Market Capitalization\", \"Dividend Yield\", \"Total Return (1 Yr Annualized)\", \"Beta (1 Year Annualized)\", \"Standard Deviation (1 Yr Annualized)\", \"S&P Global Market Intelligence Valuation\", \"S&P Global Market Intelligence Quality\", \"S&P Global Market Intelligence Growth Stability\", \"S&P Global Market Intelligence Financial Health\", \"Institutional Ownership\", \"Institutional Ownership (Last vs. Prior Qtr)\"]\n",
    "\n",
    "X = df2.copy()\n",
    "y = X.pop('Analyst Sentiment')\n",
    "X = X.loc[:, features]"
   ]
  },
  {
   "cell_type": "code",
   "execution_count": 6,
   "id": "95413224",
   "metadata": {},
   "outputs": [
    {
     "data": {
      "text/plain": [
       "neutral         289\n",
       "bearish         175\n",
       "bullish         149\n",
       "very bullish     68\n",
       "very bearish     45\n",
       "Name: Analyst Sentiment, dtype: int64"
      ]
     },
     "execution_count": 6,
     "metadata": {},
     "output_type": "execute_result"
    }
   ],
   "source": [
    "y.value_counts()"
   ]
  },
  {
   "cell_type": "code",
   "execution_count": 7,
   "id": "3849161b",
   "metadata": {},
   "outputs": [
    {
     "name": "stdout",
     "output_type": "stream",
     "text": [
      "Cross-validation error rate:0.6199771689497717\n"
     ]
    }
   ],
   "source": [
    "from sklearn.linear_model import LogisticRegression\n",
    "\n",
    "model = LogisticRegression()\n",
    "\n",
    "from sklearn.model_selection import cross_val_score\n",
    "accuracy = cross_val_score(model, X, y, cv = 10, scoring='accuracy')\n",
    "error_rate = 1 - (1/10)*np.sum(accuracy)\n",
    "print('Cross-validation error rate:{}'.format(error_rate))"
   ]
  },
  {
   "cell_type": "code",
   "execution_count": 14,
   "id": "dcfef8de",
   "metadata": {},
   "outputs": [],
   "source": [
    "# 10-Fold Cross Validation\n",
    "def cross_validation_clas (df, func):\n",
    "    from sklearn.model_selection import KFold\n",
    "    kf = KFold(n_splits = 10, shuffle = True, random_state = 10)\n",
    "    kf_accuracy = []\n",
    "    y_hat_array = []\n",
    "    \n",
    "    for train, test in kf.split(df):\n",
    "        X_train = df.iloc[train].loc[:, df.columns != 'Analyst Sentiment']\n",
    "        X_train = X_train.squeeze()\n",
    "        X_test = df.iloc[test].loc[:, df.columns != 'Analyst Sentiment']\n",
    "        y_train = df.iloc[train].loc[:,'Analyst Sentiment']\n",
    "        y_test = df.iloc[test].loc[:,'Analyst Sentiment']\n",
    "        \n",
    "        reg = func.fit(X_train, y_train)\n",
    "        y_hat = reg.predict(X_test)\n",
    "        y_hat_array.append(y_hat)\n",
    "        from sklearn.metrics import accuracy_score\n",
    "        kf_accuracy.append(accuracy_score(y_test, y_hat))\n",
    "                \n",
    "    kf_ACCURACY = (1/10) * np.sum(kf_accuracy)\n",
    "        \n",
    "    return (kf_ACCURACY, y_hat_array)"
   ]
  },
  {
   "cell_type": "code",
   "execution_count": 18,
   "id": "c3f2c950",
   "metadata": {},
   "outputs": [
    {
     "data": {
      "text/plain": [
       "0.6018835616438356"
      ]
     },
     "execution_count": 18,
     "metadata": {},
     "output_type": "execute_result"
    }
   ],
   "source": [
    "df2_2 = pd.concat([X, y], axis = 1)\n",
    "model_cv_accuracy = cross_validation_clas(df2_2, LogisticRegression())\n",
    "1-model_cv_accuracy[0]"
   ]
  }
 ],
 "metadata": {
  "kernelspec": {
   "display_name": "env_ds_3_10",
   "language": "python",
   "name": "env_ds_3_10"
  },
  "language_info": {
   "codemirror_mode": {
    "name": "ipython",
    "version": 3
   },
   "file_extension": ".py",
   "mimetype": "text/x-python",
   "name": "python",
   "nbconvert_exporter": "python",
   "pygments_lexer": "ipython3",
   "version": "3.10.1"
  }
 },
 "nbformat": 4,
 "nbformat_minor": 5
}
