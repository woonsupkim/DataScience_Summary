{
 "cells": [
  {
   "cell_type": "code",
   "execution_count": 1,
   "id": "d4f15163",
   "metadata": {},
   "outputs": [],
   "source": [
    "#Importing libraries\n",
    "import pandas as pd\n",
    "import numpy as np\n",
    "import matplotlib.pyplot as plt\n",
    "import warnings\n",
    "warnings.filterwarnings(\"ignore\")"
   ]
  },
  {
   "cell_type": "markdown",
   "id": "a39fd4a6",
   "metadata": {},
   "source": [
    "### Problem 1"
   ]
  },
  {
   "cell_type": "code",
   "execution_count": 96,
   "id": "4cb7cd3e",
   "metadata": {},
   "outputs": [
    {
     "name": "stdout",
     "output_type": "stream",
     "text": [
      "     Symbol                 Company Name Security Type  Security Price  \\\n",
      "0       VHI                   Valhi Inc.  Common Stock           32.01   \n",
      "1      HCCI   Heritage-Crystal Clean Inc  Common Stock           26.82   \n",
      "2       MMI       Marcus & Millichap Inc  Common Stock           44.81   \n",
      "3      TMST             TimkenSteel Corp  Common Stock           19.65   \n",
      "4      SRTS        Sensus Healthcare Inc  Common Stock            7.41   \n",
      "...     ...                          ...           ...             ...   \n",
      "3056   AKYA        Akoya Biosciences Inc  Common Stock           11.32   \n",
      "3057   NPCE                Neuropace Inc  Common Stock            6.56   \n",
      "3058   TMCI  Treace Medical Concepts Inc  Common Stock           19.62   \n",
      "3059   RXST                  RxSight Inc  Common Stock           11.84   \n",
      "3060   PRCT     PROCEPT BioRobotics Corp  Common Stock           38.00   \n",
      "\n",
      "      Equity Summary Score Symbol                 Company Name  \\\n",
      "0                     10.0    VHI                   Valhi Inc.   \n",
      "1                     10.0   HCCI   Heritage-Crystal Clean Inc   \n",
      "2                     10.0    MMI       Marcus & Millichap Inc   \n",
      "3                     10.0   TMST             TimkenSteel Corp   \n",
      "4                     10.0   SRTS        Sensus Healthcare Inc   \n",
      "...                    ...    ...                          ...   \n",
      "3056                   0.1   AKYA        Akoya Biosciences Inc   \n",
      "3057                   0.1   NPCE                Neuropace Inc   \n",
      "3058                   0.1   TMCI  Treace Medical Concepts Inc   \n",
      "3059                   0.1   RXST                  RxSight Inc   \n",
      "3060                   0.1   PRCT     PROCEPT BioRobotics Corp   \n",
      "\n",
      "      Security Price  Volume (90 Day Avg) Market Capitalization  ...  \\\n",
      "0              32.01              0.02169              $905.15M  ...   \n",
      "1              26.82              0.06569              $649.10M  ...   \n",
      "2              44.81              0.15544                $1.78B  ...   \n",
      "3              19.65              0.80585              $911.41M  ...   \n",
      "4               7.41              0.35670              $123.58M  ...   \n",
      "...              ...                  ...                   ...  ...   \n",
      "3056           11.32              0.08187              $388.59M  ...   \n",
      "3057            6.56              0.06183              $176.49M  ...   \n",
      "3058           19.62              0.22525                $1.08B  ...   \n",
      "3059           11.84              0.11123              $331.21M  ...   \n",
      "3060           38.00              0.27449                $1.64B  ...   \n",
      "\n",
      "                     Company Name S&P Global Market Intelligence Valuation  \\\n",
      "0                      Valhi Inc.                                     99.0   \n",
      "1      Heritage-Crystal Clean Inc                                     95.0   \n",
      "2          Marcus & Millichap Inc                                     87.0   \n",
      "3                TimkenSteel Corp                                     97.0   \n",
      "4           Sensus Healthcare Inc                                     73.0   \n",
      "...                           ...                                      ...   \n",
      "3056        Akoya Biosciences Inc                                     39.0   \n",
      "3057                Neuropace Inc                                     20.0   \n",
      "3058  Treace Medical Concepts Inc                                     46.0   \n",
      "3059                  RxSight Inc                                     69.0   \n",
      "3060     PROCEPT BioRobotics Corp                                     40.0   \n",
      "\n",
      "     S&P Global Market Intelligence Quality  \\\n",
      "0                                      87.0   \n",
      "1                                      87.0   \n",
      "2                                      91.0   \n",
      "3                                      91.0   \n",
      "4                                      72.0   \n",
      "...                                     ...   \n",
      "3056                                   41.0   \n",
      "3057                                   51.0   \n",
      "3058                                   66.0   \n",
      "3059                                   16.0   \n",
      "3060                                   36.0   \n",
      "\n",
      "     S&P Global Market Intelligence Growth Stability  \\\n",
      "0                                               99.0   \n",
      "1                                               88.0   \n",
      "2                                               97.0   \n",
      "3                                               98.0   \n",
      "4                                               72.0   \n",
      "...                                              ...   \n",
      "3056                                            17.0   \n",
      "3057                                            43.0   \n",
      "3058                                            27.0   \n",
      "3059                                            12.0   \n",
      "3060                                            58.0   \n",
      "\n",
      "     S&P Global Market Intelligence Financial Health P/E (Price/TTM Earnings)  \\\n",
      "0                                               90.0                      7.2   \n",
      "1                                               84.0                     10.4   \n",
      "2                                               93.0                     12.6   \n",
      "3                                               90.0                      6.2   \n",
      "4                                               75.0                     29.6   \n",
      "...                                              ...                      ...   \n",
      "3056                                            38.0                      NaN   \n",
      "3057                                            32.0                      NaN   \n",
      "3058                                            21.0                      NaN   \n",
      "3059                                            15.0                      NaN   \n",
      "3060                                            11.0                      NaN   \n",
      "\n",
      "     PEG Ratio  EPS Growth (Proj This Yr vs. Last Yr)  \\\n",
      "0          NaN                               28.25112   \n",
      "1          NaN                              -20.07722   \n",
      "2          NaN                                5.35211   \n",
      "3          NaN                               15.73209   \n",
      "4          NaN                               98.00000   \n",
      "...        ...                                    ...   \n",
      "3056       NaN                               16.96970   \n",
      "3057       NaN                                9.76959   \n",
      "3058       NaN                              -65.11628   \n",
      "3059       NaN                               22.43697   \n",
      "3060       NaN                               49.44904   \n",
      "\n",
      "      Institutional Ownership  Institutional Ownership (Last vs. Prior Qtr)  \n",
      "0                      3.2412                                        1.4045  \n",
      "1                     61.0935                                       -1.2840  \n",
      "2                     58.4675                                        1.2496  \n",
      "3                     76.0441                                        0.6722  \n",
      "4                     17.7405                                      119.8586  \n",
      "...                       ...                                           ...  \n",
      "3056                  32.2730                                       22.3717  \n",
      "3057                  72.6227                                       59.9339  \n",
      "3058                  54.2581                                      120.8605  \n",
      "3059                  24.2504                                      -15.0582  \n",
      "3060                  66.9519                                        8.2837  \n",
      "\n",
      "[3061 rows x 32 columns]\n"
     ]
    }
   ],
   "source": [
    "df1_1 = pd.read_excel('data_raw.xls', sheet_name = 0)\n",
    "df1_2 = pd.read_excel('data_raw.xls', sheet_name = 1)\n",
    "df1_3 = pd.read_excel('data_raw.xls', sheet_name = \"Performance & Volatility\")\n",
    "df1_4 = pd.read_excel('data_raw.xls', sheet_name = \"Valuation, Growth & Ownership\")\n",
    "\n",
    "df1 = pd.concat([df1_1, df1_2, df1_3, df1_4], axis = 1)\n",
    "print(df1)"
   ]
  },
  {
   "cell_type": "code",
   "execution_count": 97,
   "id": "e0281265",
   "metadata": {},
   "outputs": [
    {
     "data": {
      "text/plain": [
       "(3061, 32)"
      ]
     },
     "execution_count": 97,
     "metadata": {},
     "output_type": "execute_result"
    }
   ],
   "source": [
    "df1.shape"
   ]
  },
  {
   "cell_type": "code",
   "execution_count": 98,
   "id": "78607efe",
   "metadata": {},
   "outputs": [],
   "source": [
    "df1 = df1.loc[:,~df1.columns.duplicated()]"
   ]
  },
  {
   "cell_type": "code",
   "execution_count": 99,
   "id": "49a01507",
   "metadata": {},
   "outputs": [
    {
     "data": {
      "text/plain": [
       "(3061, 25)"
      ]
     },
     "execution_count": 99,
     "metadata": {},
     "output_type": "execute_result"
    }
   ],
   "source": [
    "df1.shape"
   ]
  },
  {
   "cell_type": "code",
   "execution_count": 100,
   "id": "54ece0f3",
   "metadata": {},
   "outputs": [
    {
     "data": {
      "text/plain": [
       "1524"
      ]
     },
     "execution_count": 100,
     "metadata": {},
     "output_type": "execute_result"
    }
   ],
   "source": [
    "df1['Dividend Yield'].isnull().sum()"
   ]
  },
  {
   "cell_type": "code",
   "execution_count": 101,
   "id": "1d6bc14f",
   "metadata": {},
   "outputs": [
    {
     "data": {
      "text/plain": [
       "0"
      ]
     },
     "execution_count": 101,
     "metadata": {},
     "output_type": "execute_result"
    }
   ],
   "source": [
    "df1['Dividend Yield'] = df1['Dividend Yield'].fillna(0.00)\n",
    "df1['Dividend Yield'].isnull().sum()"
   ]
  },
  {
   "cell_type": "code",
   "execution_count": 102,
   "id": "ad823713",
   "metadata": {},
   "outputs": [
    {
     "data": {
      "text/plain": [
       "0       $905.15M\n",
       "1       $649.10M\n",
       "2         $1.78B\n",
       "3       $911.41M\n",
       "4       $123.58M\n",
       "          ...   \n",
       "3056    $388.59M\n",
       "3057    $176.49M\n",
       "3058      $1.08B\n",
       "3059    $331.21M\n",
       "3060      $1.64B\n",
       "Name: Market Capitalization, Length: 3061, dtype: object"
      ]
     },
     "execution_count": 102,
     "metadata": {},
     "output_type": "execute_result"
    }
   ],
   "source": [
    "df1['Market Capitalization']"
   ]
  },
  {
   "cell_type": "code",
   "execution_count": 103,
   "id": "ec94dd06",
   "metadata": {},
   "outputs": [
    {
     "data": {
      "text/plain": [
       "0       905.15M\n",
       "1       649.10M\n",
       "2         1.78B\n",
       "3       911.41M\n",
       "4       123.58M\n",
       "         ...   \n",
       "3056    388.59M\n",
       "3057    176.49M\n",
       "3058      1.08B\n",
       "3059    331.21M\n",
       "3060      1.64B\n",
       "Name: Market Capitalization, Length: 3061, dtype: object"
      ]
     },
     "execution_count": 103,
     "metadata": {},
     "output_type": "execute_result"
    }
   ],
   "source": [
    "df1['Market Capitalization'] = df1['Market Capitalization'].replace({'\\$':''}, regex = True)\n",
    "df1['Market Capitalization']"
   ]
  },
  {
   "cell_type": "code",
   "execution_count": 109,
   "id": "c77d86ed",
   "metadata": {},
   "outputs": [
    {
     "data": {
      "text/plain": [
       "0       9.051500e+08\n",
       "1       6.491000e+08\n",
       "2       1.780000e+09\n",
       "3       9.114100e+08\n",
       "4       1.235800e+08\n",
       "            ...     \n",
       "3056    3.885900e+08\n",
       "3057    1.764900e+08\n",
       "3058    1.080000e+09\n",
       "3059    3.312100e+08\n",
       "3060    1.640000e+09\n",
       "Name: Market Capitalization, Length: 3061, dtype: float64"
      ]
     },
     "execution_count": 109,
     "metadata": {},
     "output_type": "execute_result"
    }
   ],
   "source": [
    "df1['Market Capitalization'] = df1['Market Capitalization'].replace({\"K\":\"*1e3\", \"M\":\"*1e6\", \"B\":\"*1e9\", \"T\":\"*1e12\"}, regex=True).map(pd.eval).astype(float)\n",
    "df1['Market Capitalization']"
   ]
  },
  {
   "cell_type": "code",
   "execution_count": 105,
   "id": "058a5e05",
   "metadata": {},
   "outputs": [
    {
     "data": {
      "text/plain": [
       "0       10.0\n",
       "1       10.0\n",
       "2       10.0\n",
       "3       10.0\n",
       "4       10.0\n",
       "        ... \n",
       "3056     0.1\n",
       "3057     0.1\n",
       "3058     0.1\n",
       "3059     0.1\n",
       "3060     0.1\n",
       "Name: Equity Summary Score, Length: 3061, dtype: float64"
      ]
     },
     "execution_count": 105,
     "metadata": {},
     "output_type": "execute_result"
    }
   ],
   "source": [
    "df1[\"Equity Summary Score\"]"
   ]
  },
  {
   "cell_type": "code",
   "execution_count": 106,
   "id": "763f7c39",
   "metadata": {},
   "outputs": [],
   "source": [
    "def change_func(x):\n",
    "    if 0.1 <= x <= 1.0:\n",
    "        return \"very bullish\"\n",
    "    elif 1.1 <= x <= 3.0:\n",
    "        return \"bearish\"\n",
    "    elif 3.1 <= x <= 7.0:\n",
    "        return \"neutral\"\n",
    "    elif 7.1 <= x <= 9.0:\n",
    "        return \"bullish\"\n",
    "    elif 9.1 <= x <= 10.0:\n",
    "        return \"very bullish\""
   ]
  },
  {
   "cell_type": "code",
   "execution_count": 107,
   "id": "681f0011",
   "metadata": {},
   "outputs": [
    {
     "data": {
      "text/plain": [
       "0       very bullish\n",
       "1       very bullish\n",
       "2       very bullish\n",
       "3       very bullish\n",
       "4       very bullish\n",
       "            ...     \n",
       "3056    very bullish\n",
       "3057    very bullish\n",
       "3058    very bullish\n",
       "3059    very bullish\n",
       "3060    very bullish\n",
       "Name: Analyst Sentiment, Length: 3061, dtype: object"
      ]
     },
     "execution_count": 107,
     "metadata": {},
     "output_type": "execute_result"
    }
   ],
   "source": [
    "df1[\"Analyst Sentiment\"] = df1[\"Equity Summary Score\"].apply(lambda x: change_func(x))\n",
    "df1[\"Analyst Sentiment\"]"
   ]
  },
  {
   "cell_type": "code",
   "execution_count": 110,
   "id": "3155aa80",
   "metadata": {},
   "outputs": [
    {
     "name": "stdout",
     "output_type": "stream",
     "text": [
      "<class 'pandas.core.frame.DataFrame'>\n",
      "RangeIndex: 3061 entries, 0 to 3060\n",
      "Data columns (total 26 columns):\n",
      " #   Column                                           Non-Null Count  Dtype  \n",
      "---  ------                                           --------------  -----  \n",
      " 0   Symbol                                           3061 non-null   object \n",
      " 1   Company Name                                     3061 non-null   object \n",
      " 2   Security Type                                    3061 non-null   object \n",
      " 3   Security Price                                   3061 non-null   float64\n",
      " 4   Equity Summary Score                             3061 non-null   float64\n",
      " 5   Volume (90 Day Avg)                              3057 non-null   float64\n",
      " 6   Market Capitalization                            3061 non-null   float64\n",
      " 7   Dividend Yield                                   3061 non-null   float64\n",
      " 8   Company Headquarters Location                    3061 non-null   object \n",
      " 9   Sector                                           3060 non-null   object \n",
      " 10  Industry                                         3060 non-null   object \n",
      " 11  Optionable                                       3061 non-null   object \n",
      " 12  Price Performance (52 Weeks)                     2988 non-null   float64\n",
      " 13  Total Return (1 Yr Annualized)                   2988 non-null   float64\n",
      " 14  Beta (1 Year Annualized)                         2988 non-null   float64\n",
      " 15  Standard Deviation (1 Yr Annualized)             2990 non-null   float64\n",
      " 16  S&P Global Market Intelligence Valuation         3047 non-null   float64\n",
      " 17  S&P Global Market Intelligence Quality           3044 non-null   float64\n",
      " 18  S&P Global Market Intelligence Growth Stability  3046 non-null   float64\n",
      " 19  S&P Global Market Intelligence Financial Health  2989 non-null   float64\n",
      " 20  P/E (Price/TTM Earnings)                         2145 non-null   float64\n",
      " 21  PEG Ratio                                        836 non-null    float64\n",
      " 22  EPS Growth (Proj This Yr vs. Last Yr)            2763 non-null   float64\n",
      " 23  Institutional Ownership                          2981 non-null   float64\n",
      " 24  Institutional Ownership (Last vs. Prior Qtr)     3060 non-null   float64\n",
      " 25  Analyst Sentiment                                3061 non-null   object \n",
      "dtypes: float64(18), object(8)\n",
      "memory usage: 621.9+ KB\n"
     ]
    }
   ],
   "source": [
    "df1.info()"
   ]
  },
  {
   "cell_type": "code",
   "execution_count": 111,
   "id": "5a583585",
   "metadata": {},
   "outputs": [],
   "source": [
    "df1_sanity = pd.read_csv('data_prepared.csv')"
   ]
  },
  {
   "cell_type": "code",
   "execution_count": 114,
   "id": "75bf40ca",
   "metadata": {},
   "outputs": [
    {
     "name": "stdout",
     "output_type": "stream",
     "text": [
      "<class 'pandas.core.frame.DataFrame'>\n",
      "RangeIndex: 3061 entries, 0 to 3060\n",
      "Data columns (total 27 columns):\n",
      " #   Column                                           Non-Null Count  Dtype  \n",
      "---  ------                                           --------------  -----  \n",
      " 0   Unnamed: 0                                       3061 non-null   int64  \n",
      " 1   Symbol                                           3061 non-null   object \n",
      " 2   Company Name                                     3061 non-null   object \n",
      " 3   Security Type                                    3061 non-null   object \n",
      " 4   Security Price                                   3061 non-null   float64\n",
      " 5   Equity Summary Score                             3061 non-null   float64\n",
      " 6   Volume (90 Day Avg)                              3057 non-null   float64\n",
      " 7   Market Capitalization                            3061 non-null   int64  \n",
      " 8   Dividend Yield                                   3061 non-null   float64\n",
      " 9   Company Headquarters Location                    3061 non-null   object \n",
      " 10  Sector                                           3060 non-null   object \n",
      " 11  Industry                                         3060 non-null   object \n",
      " 12  Optionable                                       3061 non-null   object \n",
      " 13  Price Performance (52 Weeks)                     2988 non-null   float64\n",
      " 14  Total Return (1 Yr Annualized)                   2988 non-null   float64\n",
      " 15  Beta (1 Year Annualized)                         2988 non-null   float64\n",
      " 16  Standard Deviation (1 Yr Annualized)             2990 non-null   float64\n",
      " 17  S&P Global Market Intelligence Valuation         3047 non-null   float64\n",
      " 18  S&P Global Market Intelligence Quality           3044 non-null   float64\n",
      " 19  S&P Global Market Intelligence Growth Stability  3046 non-null   float64\n",
      " 20  S&P Global Market Intelligence Financial Health  2989 non-null   float64\n",
      " 21  P/E (Price/TTM Earnings)                         2145 non-null   float64\n",
      " 22  PEG Ratio                                        836 non-null    float64\n",
      " 23  EPS Growth (Proj This Yr vs. Last Yr)            2763 non-null   float64\n",
      " 24  Institutional Ownership                          2981 non-null   float64\n",
      " 25  Institutional Ownership (Last vs. Prior Qtr)     3060 non-null   float64\n",
      " 26  Analyst Sentiment                                3061 non-null   object \n",
      "dtypes: float64(17), int64(2), object(8)\n",
      "memory usage: 645.8+ KB\n"
     ]
    }
   ],
   "source": [
    "df1_sanity.info()"
   ]
  },
  {
   "cell_type": "code",
   "execution_count": 115,
   "id": "66ab86e3",
   "metadata": {},
   "outputs": [
    {
     "data": {
      "text/plain": [
       "Unnamed: 0                                            0\n",
       "Symbol                                                0\n",
       "Company Name                                          0\n",
       "Security Type                                         0\n",
       "Security Price                                        0\n",
       "Equity Summary Score                                  0\n",
       "Volume (90 Day Avg)                                   4\n",
       "Market Capitalization                                 0\n",
       "Dividend Yield                                        0\n",
       "Company Headquarters Location                         0\n",
       "Sector                                                1\n",
       "Industry                                              1\n",
       "Optionable                                            0\n",
       "Price Performance (52 Weeks)                         73\n",
       "Total Return (1 Yr Annualized)                       73\n",
       "Beta (1 Year Annualized)                             73\n",
       "Standard Deviation (1 Yr Annualized)                 71\n",
       "S&P Global Market Intelligence Valuation             14\n",
       "S&P Global Market Intelligence Quality               17\n",
       "S&P Global Market Intelligence Growth Stability      15\n",
       "S&P Global Market Intelligence Financial Health      72\n",
       "P/E (Price/TTM Earnings)                            916\n",
       "PEG Ratio                                          2225\n",
       "EPS Growth (Proj This Yr vs. Last Yr)               298\n",
       "Institutional Ownership                              80\n",
       "Institutional Ownership (Last vs. Prior Qtr)          1\n",
       "Analyst Sentiment                                     0\n",
       "dtype: int64"
      ]
     },
     "execution_count": 115,
     "metadata": {},
     "output_type": "execute_result"
    }
   ],
   "source": [
    "df1_sanity.isnull().sum()"
   ]
  },
  {
   "cell_type": "code",
   "execution_count": 116,
   "id": "8a30df5e",
   "metadata": {},
   "outputs": [
    {
     "data": {
      "text/plain": [
       "Symbol                                                0\n",
       "Company Name                                          0\n",
       "Security Type                                         0\n",
       "Security Price                                        0\n",
       "Equity Summary Score                                  0\n",
       "Volume (90 Day Avg)                                   4\n",
       "Market Capitalization                                 0\n",
       "Dividend Yield                                        0\n",
       "Company Headquarters Location                         0\n",
       "Sector                                                1\n",
       "Industry                                              1\n",
       "Optionable                                            0\n",
       "Price Performance (52 Weeks)                         73\n",
       "Total Return (1 Yr Annualized)                       73\n",
       "Beta (1 Year Annualized)                             73\n",
       "Standard Deviation (1 Yr Annualized)                 71\n",
       "S&P Global Market Intelligence Valuation             14\n",
       "S&P Global Market Intelligence Quality               17\n",
       "S&P Global Market Intelligence Growth Stability      15\n",
       "S&P Global Market Intelligence Financial Health      72\n",
       "P/E (Price/TTM Earnings)                            916\n",
       "PEG Ratio                                          2225\n",
       "EPS Growth (Proj This Yr vs. Last Yr)               298\n",
       "Institutional Ownership                              80\n",
       "Institutional Ownership (Last vs. Prior Qtr)          1\n",
       "Analyst Sentiment                                     0\n",
       "dtype: int64"
      ]
     },
     "execution_count": 116,
     "metadata": {},
     "output_type": "execute_result"
    }
   ],
   "source": [
    "df1.isnull().sum()"
   ]
  },
  {
   "cell_type": "markdown",
   "id": "cbe9eb4e",
   "metadata": {},
   "source": [
    "### Problem 2"
   ]
  },
  {
   "cell_type": "code",
   "execution_count": 14,
   "id": "d4145faf",
   "metadata": {},
   "outputs": [],
   "source": [
    "#Reading data file\n",
    "df2 = pd.read_csv('data_prepared.csv')"
   ]
  },
  {
   "cell_type": "code",
   "execution_count": 15,
   "id": "6c565d3c",
   "metadata": {},
   "outputs": [],
   "source": [
    "df2 = df2.dropna()"
   ]
  },
  {
   "cell_type": "code",
   "execution_count": 16,
   "id": "69c33dba",
   "metadata": {},
   "outputs": [],
   "source": [
    "#Select appropriate features\n",
    "features = [\"Security Price\", \"Volume (90 Day Avg)\", \"Market Capitalization\", \"Dividend Yield\", \"Total Return (1 Yr Annualized)\", \"Beta (1 Year Annualized)\", \"Standard Deviation (1 Yr Annualized)\", \"S&P Global Market Intelligence Valuation\", \"S&P Global Market Intelligence Quality\", \"S&P Global Market Intelligence Growth Stability\", \"S&P Global Market Intelligence Financial Health\", \"Institutional Ownership\", \"Institutional Ownership (Last vs. Prior Qtr)\"]\n",
    "\n",
    "X = df2.copy()\n",
    "y = X.pop('Analyst Sentiment')\n",
    "X = X.loc[:, features]"
   ]
  },
  {
   "cell_type": "code",
   "execution_count": 19,
   "id": "381a45ea",
   "metadata": {},
   "outputs": [
    {
     "data": {
      "text/plain": [
       "neutral         311\n",
       "bearish         179\n",
       "bullish         168\n",
       "very bullish     80\n",
       "very bearish     46\n",
       "Name: Analyst Sentiment, dtype: int64"
      ]
     },
     "execution_count": 19,
     "metadata": {},
     "output_type": "execute_result"
    }
   ],
   "source": [
    "y.value_counts()"
   ]
  },
  {
   "cell_type": "code",
   "execution_count": 20,
   "id": "3d02f91e",
   "metadata": {},
   "outputs": [
    {
     "name": "stdout",
     "output_type": "stream",
     "text": [
      "Cross-validation error rate:0.6212431028886725\n"
     ]
    }
   ],
   "source": [
    "from sklearn.linear_model import LogisticRegression\n",
    "\n",
    "model = LogisticRegression(random_state=0)\n",
    "#model.fit(X,y)\n",
    "#y_hat = model.predict(X)\n",
    "\n",
    "from sklearn.model_selection import cross_val_score\n",
    "accuracy = cross_val_score(model, X, y, cv = 10, scoring='accuracy')\n",
    "error_rate = 1 - (1/10)*np.sum(accuracy)\n",
    "print('Cross-validation error rate:{}'.format(error_rate))"
   ]
  },
  {
   "cell_type": "markdown",
   "id": "717dd93f",
   "metadata": {},
   "source": [
    "### Problem 3"
   ]
  },
  {
   "cell_type": "code",
   "execution_count": 32,
   "id": "3c591f65",
   "metadata": {},
   "outputs": [],
   "source": [
    "#Reading data file\n",
    "df3 = pd.read_csv('data_prepared.csv')"
   ]
  },
  {
   "cell_type": "code",
   "execution_count": 33,
   "id": "dcd1f91a",
   "metadata": {},
   "outputs": [],
   "source": [
    "df3 = df3.dropna()"
   ]
  },
  {
   "cell_type": "code",
   "execution_count": 34,
   "id": "4d7ae869",
   "metadata": {},
   "outputs": [],
   "source": [
    "#Select appropriate features\n",
    "features3 = [\"Security Price\", \"Volume (90 Day Avg)\", \"Market Capitalization\", \"Dividend Yield\", \"Total Return (1 Yr Annualized)\", \"Beta (1 Year Annualized)\", \"Standard Deviation (1 Yr Annualized)\", \"S&P Global Market Intelligence Valuation\", \"S&P Global Market Intelligence Quality\", \"S&P Global Market Intelligence Growth Stability\", \"S&P Global Market Intelligence Financial Health\", \"Institutional Ownership\", \"Institutional Ownership (Last vs. Prior Qtr)\"]\n",
    "\n",
    "X3 = df3.copy()\n",
    "y3 = X3.pop('Equity Summary Score')\n",
    "X3 = X3.loc[:, features3]"
   ]
  },
  {
   "cell_type": "code",
   "execution_count": 35,
   "id": "250a6ce4",
   "metadata": {},
   "outputs": [],
   "source": [
    "# Standardize\n",
    "X3_scaled = (X3 - X3.mean(axis=0)) / X3.std(axis=0)"
   ]
  },
  {
   "cell_type": "code",
   "execution_count": 36,
   "id": "339e4a78",
   "metadata": {},
   "outputs": [
    {
     "data": {
      "text/html": [
       "<div>\n",
       "<style scoped>\n",
       "    .dataframe tbody tr th:only-of-type {\n",
       "        vertical-align: middle;\n",
       "    }\n",
       "\n",
       "    .dataframe tbody tr th {\n",
       "        vertical-align: top;\n",
       "    }\n",
       "\n",
       "    .dataframe thead th {\n",
       "        text-align: right;\n",
       "    }\n",
       "</style>\n",
       "<table border=\"1\" class=\"dataframe\">\n",
       "  <thead>\n",
       "    <tr style=\"text-align: right;\">\n",
       "      <th></th>\n",
       "      <th>PC1</th>\n",
       "      <th>PC2</th>\n",
       "      <th>PC3</th>\n",
       "      <th>PC4</th>\n",
       "      <th>PC5</th>\n",
       "      <th>PC6</th>\n",
       "      <th>PC7</th>\n",
       "      <th>PC8</th>\n",
       "      <th>PC9</th>\n",
       "      <th>PC10</th>\n",
       "      <th>PC11</th>\n",
       "      <th>PC12</th>\n",
       "      <th>PC13</th>\n",
       "    </tr>\n",
       "  </thead>\n",
       "  <tbody>\n",
       "    <tr>\n",
       "      <th>0</th>\n",
       "      <td>1.703486</td>\n",
       "      <td>-3.033612</td>\n",
       "      <td>0.149403</td>\n",
       "      <td>-2.139578</td>\n",
       "      <td>1.171837</td>\n",
       "      <td>0.283280</td>\n",
       "      <td>-2.826061</td>\n",
       "      <td>-0.920585</td>\n",
       "      <td>0.872288</td>\n",
       "      <td>0.516093</td>\n",
       "      <td>0.422268</td>\n",
       "      <td>0.623093</td>\n",
       "      <td>-0.517487</td>\n",
       "    </tr>\n",
       "    <tr>\n",
       "      <th>1</th>\n",
       "      <td>2.093176</td>\n",
       "      <td>-1.799193</td>\n",
       "      <td>0.212222</td>\n",
       "      <td>-0.391760</td>\n",
       "      <td>2.548526</td>\n",
       "      <td>-0.015874</td>\n",
       "      <td>-1.559970</td>\n",
       "      <td>1.178364</td>\n",
       "      <td>1.245867</td>\n",
       "      <td>-0.584587</td>\n",
       "      <td>0.049195</td>\n",
       "      <td>0.152793</td>\n",
       "      <td>0.047639</td>\n",
       "    </tr>\n",
       "    <tr>\n",
       "      <th>2</th>\n",
       "      <td>2.360222</td>\n",
       "      <td>-2.556350</td>\n",
       "      <td>-0.601209</td>\n",
       "      <td>-2.365582</td>\n",
       "      <td>0.386956</td>\n",
       "      <td>0.437037</td>\n",
       "      <td>-2.652778</td>\n",
       "      <td>1.627984</td>\n",
       "      <td>-0.508002</td>\n",
       "      <td>0.615650</td>\n",
       "      <td>0.172882</td>\n",
       "      <td>0.402636</td>\n",
       "      <td>0.321475</td>\n",
       "    </tr>\n",
       "    <tr>\n",
       "      <th>3</th>\n",
       "      <td>1.982735</td>\n",
       "      <td>-1.281695</td>\n",
       "      <td>0.165290</td>\n",
       "      <td>-0.607208</td>\n",
       "      <td>1.686713</td>\n",
       "      <td>0.342526</td>\n",
       "      <td>-0.041619</td>\n",
       "      <td>1.312369</td>\n",
       "      <td>0.133353</td>\n",
       "      <td>0.905748</td>\n",
       "      <td>0.458574</td>\n",
       "      <td>0.162837</td>\n",
       "      <td>0.207693</td>\n",
       "    </tr>\n",
       "    <tr>\n",
       "      <th>4</th>\n",
       "      <td>1.595958</td>\n",
       "      <td>-2.766851</td>\n",
       "      <td>0.636922</td>\n",
       "      <td>-1.915324</td>\n",
       "      <td>0.831491</td>\n",
       "      <td>-0.130425</td>\n",
       "      <td>-2.323639</td>\n",
       "      <td>-0.540200</td>\n",
       "      <td>0.900090</td>\n",
       "      <td>0.215588</td>\n",
       "      <td>0.138657</td>\n",
       "      <td>0.547065</td>\n",
       "      <td>-0.098319</td>\n",
       "    </tr>\n",
       "  </tbody>\n",
       "</table>\n",
       "</div>"
      ],
      "text/plain": [
       "        PC1       PC2       PC3       PC4       PC5       PC6       PC7  \\\n",
       "0  1.703486 -3.033612  0.149403 -2.139578  1.171837  0.283280 -2.826061   \n",
       "1  2.093176 -1.799193  0.212222 -0.391760  2.548526 -0.015874 -1.559970   \n",
       "2  2.360222 -2.556350 -0.601209 -2.365582  0.386956  0.437037 -2.652778   \n",
       "3  1.982735 -1.281695  0.165290 -0.607208  1.686713  0.342526 -0.041619   \n",
       "4  1.595958 -2.766851  0.636922 -1.915324  0.831491 -0.130425 -2.323639   \n",
       "\n",
       "        PC8       PC9      PC10      PC11      PC12      PC13  \n",
       "0 -0.920585  0.872288  0.516093  0.422268  0.623093 -0.517487  \n",
       "1  1.178364  1.245867 -0.584587  0.049195  0.152793  0.047639  \n",
       "2  1.627984 -0.508002  0.615650  0.172882  0.402636  0.321475  \n",
       "3  1.312369  0.133353  0.905748  0.458574  0.162837  0.207693  \n",
       "4 -0.540200  0.900090  0.215588  0.138657  0.547065 -0.098319  "
      ]
     },
     "execution_count": 36,
     "metadata": {},
     "output_type": "execute_result"
    }
   ],
   "source": [
    "from sklearn.decomposition import PCA\n",
    "\n",
    "# Create principal components\n",
    "pca = PCA()\n",
    "X3_pca = pca.fit_transform(X3_scaled)\n",
    "\n",
    "# Convert to dataframe\n",
    "component_names = [f\"PC{i+1}\" for i in range(X3_pca.shape[1])] #getting column names\n",
    "X3_pca = pd.DataFrame(X3_pca, columns=component_names)\n",
    "\n",
    "X3_pca.head()"
   ]
  },
  {
   "cell_type": "code",
   "execution_count": 37,
   "id": "815bc785",
   "metadata": {},
   "outputs": [],
   "source": [
    "# plotting variance\n",
    "def plot_variance(pca, width=8, dpi=100):\n",
    "    # Create figure\n",
    "    fig, axs = plt.subplots(1, 2)\n",
    "    n = pca.n_components_\n",
    "    grid = np.arange(1, n + 1)\n",
    "    # Explained variance\n",
    "    evr = pca.explained_variance_ratio_\n",
    "    axs[0].bar(grid, evr)\n",
    "    axs[0].set(\n",
    "        xlabel=\"Component\", title=\"% Explained Variance\", ylim=(0.0, 1.0)\n",
    "    )\n",
    "    # Cumulative Variance\n",
    "    cv = np.cumsum(evr)\n",
    "    axs[1].plot(np.r_[0, grid], np.r_[0, cv], \"o-\")\n",
    "    axs[1].set(\n",
    "        xlabel=\"Component\", title=\"% Cumulative Variance\", ylim=(0.0, 1.0)\n",
    "    )\n",
    "    # Set up figure\n",
    "    fig.set(figwidth=8, dpi=100)\n",
    "    return axs"
   ]
  },
  {
   "cell_type": "markdown",
   "id": "1e3dc2f9",
   "metadata": {},
   "source": [
    "#### Part a"
   ]
  },
  {
   "cell_type": "code",
   "execution_count": 38,
   "id": "c221382b",
   "metadata": {},
   "outputs": [
    {
     "data": {
      "image/png": "[encoded data removed]",
      "text/plain": [
       "<Figure size 800x400 with 2 Axes>"
      ]
     },
     "metadata": {
      "needs_background": "light"
     },
     "output_type": "display_data"
    }
   ],
   "source": [
    "# Look at explained variance\n",
    "plot_variance(pca);"
   ]
  },
  {
   "cell_type": "markdown",
   "id": "d9a066d1",
   "metadata": {},
   "source": [
    "#### Part b"
   ]
  },
  {
   "cell_type": "code",
   "execution_count": 41,
   "id": "d1b524ed",
   "metadata": {},
   "outputs": [],
   "source": [
    "# 10-Fold Cross Validation\n",
    "def cross_validation (df, func):\n",
    "    from sklearn.model_selection import KFold\n",
    "    kf = KFold(n_splits = 10, shuffle = True, random_state = 10)\n",
    "    kf_rmse = []\n",
    "    \n",
    "    for train, test in kf.split(df):\n",
    "        X_train = df.iloc[train].loc[:, df.columns != 'Equity Summary Score']\n",
    "        X_train = X_train.squeeze()\n",
    "        X_test = df.iloc[test].loc[:, df.columns != 'Equity Summary Score']\n",
    "        y_train = df.iloc[train].loc[:,'Equity Summary Score']\n",
    "        y_test = df.iloc[test].loc[:,'Equity Summary Score']\n",
    "        \n",
    "        reg = func.fit(X_train, y_train)\n",
    "        y_hat = reg.predict(X_test)\n",
    "        \n",
    "        from sklearn.metrics import mean_squared_error\n",
    "        kf_rmse.append(mean_squared_error(y_test, y_hat, squared=False))\n",
    "        \n",
    "    kf_RMSE = (1/10) * np.sum(kf_rmse)\n",
    "        \n",
    "    return (kf_RMSE)"
   ]
  },
  {
   "cell_type": "code",
   "execution_count": 46,
   "id": "155e5dc3",
   "metadata": {},
   "outputs": [],
   "source": [
    "from sklearn.pipeline import make_pipeline\n",
    "from sklearn.linear_model import LinearRegression\n",
    "\n",
    "mse3 = []\n",
    "\n",
    "df_3 = pd.concat([X3_scaled, y3], axis = 1)\n",
    "\n",
    "for i in range(1,14,1):\n",
    "    reg = make_pipeline(PCA(n_components=i), LinearRegression()).fit(X3_scaled, y3)\n",
    "    y_hat = reg.predict(X3_scaled)\n",
    "    mse3.append(cross_validation(df_3,make_pipeline(PCA(n_components=i), LinearRegression())))"
   ]
  },
  {
   "cell_type": "code",
   "execution_count": 49,
   "id": "4939e916",
   "metadata": {},
   "outputs": [
    {
     "data": {
      "text/html": [
       "<div>\n",
       "<style scoped>\n",
       "    .dataframe tbody tr th:only-of-type {\n",
       "        vertical-align: middle;\n",
       "    }\n",
       "\n",
       "    .dataframe tbody tr th {\n",
       "        vertical-align: top;\n",
       "    }\n",
       "\n",
       "    .dataframe thead th {\n",
       "        text-align: right;\n",
       "    }\n",
       "</style>\n",
       "<table border=\"1\" class=\"dataframe\">\n",
       "  <thead>\n",
       "    <tr style=\"text-align: right;\">\n",
       "      <th></th>\n",
       "      <th>PC</th>\n",
       "      <th>rmse</th>\n",
       "    </tr>\n",
       "  </thead>\n",
       "  <tbody>\n",
       "    <tr>\n",
       "      <th>11</th>\n",
       "      <td>12.0</td>\n",
       "      <td>2.181586</td>\n",
       "    </tr>\n",
       "  </tbody>\n",
       "</table>\n",
       "</div>"
      ],
      "text/plain": [
       "      PC      rmse\n",
       "11  12.0  2.181586"
      ]
     },
     "execution_count": 49,
     "metadata": {},
     "output_type": "execute_result"
    }
   ],
   "source": [
    "rmse_PCR = pd.DataFrame(zip(np.linspace(1,len(mse3),len(mse3)), mse3), columns = ['PC','rmse'])\n",
    "rmse_PCR.loc[rmse_PCR['rmse'] == rmse_PCR['rmse'].min()]"
   ]
  },
  {
   "cell_type": "markdown",
   "id": "88f84717",
   "metadata": {},
   "source": [
    "#### Part b1"
   ]
  },
  {
   "cell_type": "code",
   "execution_count": 51,
   "id": "29280d90",
   "metadata": {},
   "outputs": [
    {
     "data": {
      "image/png": "[encoded data removed]",
      "text/plain": [
       "<Figure size 432x288 with 1 Axes>"
      ]
     },
     "metadata": {
      "needs_background": "light"
     },
     "output_type": "display_data"
    }
   ],
   "source": [
    "x = rmse_PCR['PC']\n",
    "y = rmse_PCR['rmse']\n",
    "\n",
    "plt.plot(x, y)\n",
    "plt.xlim(1, 13) \n",
    "plt.grid()\n",
    "plt.show()"
   ]
  },
  {
   "cell_type": "markdown",
   "id": "4e06c8d2",
   "metadata": {},
   "source": [
    "#### Part b2"
   ]
  },
  {
   "cell_type": "code",
   "execution_count": 54,
   "id": "9b04b7dd",
   "metadata": {},
   "outputs": [],
   "source": [
    "#The optimal number of PCs to include in the PCR is 12 as it returned the lowest 10-CV RMSE\n",
    "#However, looking at the cumulated % of variance explained plot, one may find it desirable to select the minimum\n",
    "#number of PCs that can sufficiently explain the variance in the data (ex. 7 PCs explain 80% of the variance)"
   ]
  },
  {
   "cell_type": "markdown",
   "id": "267065a5",
   "metadata": {},
   "source": [
    "#### Part b3"
   ]
  },
  {
   "cell_type": "code",
   "execution_count": 62,
   "id": "e9c9b4cf",
   "metadata": {},
   "outputs": [
    {
     "data": {
      "text/html": [
       "<div>\n",
       "<style scoped>\n",
       "    .dataframe tbody tr th:only-of-type {\n",
       "        vertical-align: middle;\n",
       "    }\n",
       "\n",
       "    .dataframe tbody tr th {\n",
       "        vertical-align: top;\n",
       "    }\n",
       "\n",
       "    .dataframe thead th {\n",
       "        text-align: right;\n",
       "    }\n",
       "</style>\n",
       "<table border=\"1\" class=\"dataframe\">\n",
       "  <thead>\n",
       "    <tr style=\"text-align: right;\">\n",
       "      <th></th>\n",
       "      <th>PC1</th>\n",
       "      <th>PC2</th>\n",
       "      <th>PC3</th>\n",
       "      <th>PC4</th>\n",
       "      <th>PC5</th>\n",
       "      <th>PC6</th>\n",
       "      <th>PC7</th>\n",
       "      <th>PC8</th>\n",
       "      <th>PC9</th>\n",
       "      <th>PC10</th>\n",
       "      <th>PC11</th>\n",
       "      <th>PC12</th>\n",
       "    </tr>\n",
       "  </thead>\n",
       "  <tbody>\n",
       "    <tr>\n",
       "      <th>0</th>\n",
       "      <td>1.703486</td>\n",
       "      <td>-3.033612</td>\n",
       "      <td>0.149403</td>\n",
       "      <td>-2.139578</td>\n",
       "      <td>1.171837</td>\n",
       "      <td>0.283280</td>\n",
       "      <td>-2.826061</td>\n",
       "      <td>-0.920585</td>\n",
       "      <td>0.872288</td>\n",
       "      <td>0.516093</td>\n",
       "      <td>0.422268</td>\n",
       "      <td>0.623093</td>\n",
       "    </tr>\n",
       "    <tr>\n",
       "      <th>1</th>\n",
       "      <td>2.093176</td>\n",
       "      <td>-1.799193</td>\n",
       "      <td>0.212222</td>\n",
       "      <td>-0.391760</td>\n",
       "      <td>2.548526</td>\n",
       "      <td>-0.015874</td>\n",
       "      <td>-1.559970</td>\n",
       "      <td>1.178364</td>\n",
       "      <td>1.245867</td>\n",
       "      <td>-0.584587</td>\n",
       "      <td>0.049195</td>\n",
       "      <td>0.152793</td>\n",
       "    </tr>\n",
       "    <tr>\n",
       "      <th>2</th>\n",
       "      <td>2.360222</td>\n",
       "      <td>-2.556350</td>\n",
       "      <td>-0.601209</td>\n",
       "      <td>-2.365582</td>\n",
       "      <td>0.386956</td>\n",
       "      <td>0.437037</td>\n",
       "      <td>-2.652778</td>\n",
       "      <td>1.627984</td>\n",
       "      <td>-0.508002</td>\n",
       "      <td>0.615650</td>\n",
       "      <td>0.172882</td>\n",
       "      <td>0.402636</td>\n",
       "    </tr>\n",
       "    <tr>\n",
       "      <th>3</th>\n",
       "      <td>1.982735</td>\n",
       "      <td>-1.281695</td>\n",
       "      <td>0.165290</td>\n",
       "      <td>-0.607208</td>\n",
       "      <td>1.686713</td>\n",
       "      <td>0.342526</td>\n",
       "      <td>-0.041619</td>\n",
       "      <td>1.312369</td>\n",
       "      <td>0.133353</td>\n",
       "      <td>0.905748</td>\n",
       "      <td>0.458574</td>\n",
       "      <td>0.162837</td>\n",
       "    </tr>\n",
       "    <tr>\n",
       "      <th>4</th>\n",
       "      <td>1.595958</td>\n",
       "      <td>-2.766851</td>\n",
       "      <td>0.636922</td>\n",
       "      <td>-1.915324</td>\n",
       "      <td>0.831491</td>\n",
       "      <td>-0.130425</td>\n",
       "      <td>-2.323639</td>\n",
       "      <td>-0.540200</td>\n",
       "      <td>0.900090</td>\n",
       "      <td>0.215588</td>\n",
       "      <td>0.138657</td>\n",
       "      <td>0.547065</td>\n",
       "    </tr>\n",
       "  </tbody>\n",
       "</table>\n",
       "</div>"
      ],
      "text/plain": [
       "        PC1       PC2       PC3       PC4       PC5       PC6       PC7  \\\n",
       "0  1.703486 -3.033612  0.149403 -2.139578  1.171837  0.283280 -2.826061   \n",
       "1  2.093176 -1.799193  0.212222 -0.391760  2.548526 -0.015874 -1.559970   \n",
       "2  2.360222 -2.556350 -0.601209 -2.365582  0.386956  0.437037 -2.652778   \n",
       "3  1.982735 -1.281695  0.165290 -0.607208  1.686713  0.342526 -0.041619   \n",
       "4  1.595958 -2.766851  0.636922 -1.915324  0.831491 -0.130425 -2.323639   \n",
       "\n",
       "        PC8       PC9      PC10      PC11      PC12  \n",
       "0 -0.920585  0.872288  0.516093  0.422268  0.623093  \n",
       "1  1.178364  1.245867 -0.584587  0.049195  0.152793  \n",
       "2  1.627984 -0.508002  0.615650  0.172882  0.402636  \n",
       "3  1.312369  0.133353  0.905748  0.458574  0.162837  \n",
       "4 -0.540200  0.900090  0.215588  0.138657  0.547065  "
      ]
     },
     "execution_count": 62,
     "metadata": {},
     "output_type": "execute_result"
    }
   ],
   "source": [
    "# Create principal components with 12 PCs\n",
    "pca = PCA(n_components = 12)\n",
    "X3_pca2 = pca.fit_transform(X3_scaled)\n",
    "\n",
    "# Convert to dataframe\n",
    "component_names = [f\"PC{i+1}\" for i in range(X3_pca2.shape[1])] #getting column names\n",
    "X3_pca2 = pd.DataFrame(X3_pca2, columns=component_names)\n",
    "\n",
    "X3_pca2.head()"
   ]
  },
  {
   "cell_type": "code",
   "execution_count": 61,
   "id": "17c5fc83",
   "metadata": {},
   "outputs": [
    {
     "name": "stdout",
     "output_type": "stream",
     "text": [
      "PC_s\n",
      " [[-0.00301275  0.20870245  0.18801218  0.01003178  0.16649237 -0.02140072\n",
      "  -0.02319855  0.55432284  0.5022268   0.24827267  0.49583305 -0.11253358\n",
      "  -0.11229435]\n",
      " [ 0.15254344 -0.06953708 -0.03306127 -0.49399575 -0.19728168  0.57408075\n",
      "   0.5102859   0.08425932  0.08421731  0.07425868  0.00952319  0.27868975\n",
      "  -0.02060496]\n",
      " [ 0.3437011   0.51649331  0.62682106 -0.00506518  0.14403004  0.1272032\n",
      "   0.05595988 -0.22730897 -0.13531268  0.16693711 -0.22521961 -0.18297268\n",
      "   0.00820649]\n",
      " [ 0.50820442 -0.31026302  0.09195519 -0.26337347  0.20959422 -0.24029665\n",
      "  -0.3917853  -0.04685497  0.24328942  0.12732393 -0.15189847  0.45995649\n",
      "  -0.01569126]\n",
      " [-0.24584956 -0.06732215 -0.26514822  0.01244779  0.61745032  0.01475914\n",
      "   0.2300608  -0.1422958  -0.05212545  0.59786985 -0.18617028 -0.00941204\n",
      "  -0.12253581]\n",
      " [-0.11357136  0.08141055  0.01228246 -0.126531    0.18709545 -0.06769165\n",
      "   0.06354281  0.01699091  0.06307001 -0.02131347  0.05859059  0.06512919\n",
      "   0.95304402]\n",
      " [-0.49954936  0.48136671  0.09809573 -0.19982032  0.06269574 -0.1420955\n",
      "  -0.09507076  0.02783633 -0.04345108 -0.17631873 -0.07381826  0.60285609\n",
      "  -0.18272797]\n",
      " [ 0.09107623 -0.03496107 -0.03104214 -0.18911672  0.5735903  -0.02466277\n",
      "   0.22602394 -0.05636967  0.16682939 -0.68743121  0.00278458 -0.21595923\n",
      "  -0.15111517]\n",
      " [-0.01847191 -0.10529193  0.10755395 -0.53808771  0.03554763 -0.25885281\n",
      "  -0.05551849 -0.08188847 -0.54219646  0.10969231  0.52230262 -0.16073486\n",
      "  -0.06902604]\n",
      " [ 0.28031157 -0.0182665   0.00532989  0.52821596  0.249849    0.15845383\n",
      "   0.15655516  0.06816795 -0.3867287  -0.0986094   0.40002112  0.45333847\n",
      "   0.02339148]\n",
      " [ 0.25578446  0.18288686 -0.24548609 -0.09653362  0.01535525 -0.22561699\n",
      "   0.09455839  0.68979143 -0.366792   -0.0152357  -0.39427256 -0.07077883\n",
      "   0.02057287]\n",
      " [-0.3523254  -0.5320136   0.59892076  0.05465776  0.11736881  0.16251256\n",
      "  -0.033402    0.33503324 -0.16281564 -0.05318519 -0.21927401  0.00785009\n",
      "   0.01028282]]\n"
     ]
    }
   ],
   "source": [
    "# PCA\n",
    "from sklearn.preprocessing import StandardScaler\n",
    "\n",
    "pca_s = PCA(n_components = 12).fit(StandardScaler().fit_transform(X3))    \n",
    "print('PC_s\\n', pca_s.components_)  # each row is a PC"
   ]
  },
  {
   "cell_type": "code",
   "execution_count": null,
   "id": "d7f8001c",
   "metadata": {},
   "outputs": [],
   "source": []
  }
 ],
 "metadata": {
  "kernelspec": {
   "display_name": "env_ds_3_10",
   "language": "python",
   "name": "env_ds_3_10"
  },
  "language_info": {
   "codemirror_mode": {
    "name": "ipython",
    "version": 3
   },
   "file_extension": ".py",
   "mimetype": "text/x-python",
   "name": "python",
   "nbconvert_exporter": "python",
   "pygments_lexer": "ipython3",
   "version": "3.10.1"
  }
 },
 "nbformat": 4,
 "nbformat_minor": 5
}
