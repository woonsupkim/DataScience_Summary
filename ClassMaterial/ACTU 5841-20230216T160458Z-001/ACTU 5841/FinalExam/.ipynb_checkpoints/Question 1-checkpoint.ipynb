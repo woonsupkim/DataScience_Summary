{
 "cells": [
  {
   "cell_type": "code",
   "execution_count": 1,
   "id": "b34e06c1",
   "metadata": {},
   "outputs": [],
   "source": [
    "#Importing libraries\n",
    "import pandas as pd\n",
    "import numpy as np\n",
    "import matplotlib.pyplot as plt\n",
    "import warnings\n",
    "warnings.filterwarnings(\"ignore\")"
   ]
  },
  {
   "cell_type": "code",
   "execution_count": 2,
   "id": "66bd103c",
   "metadata": {},
   "outputs": [
    {
     "name": "stdout",
     "output_type": "stream",
     "text": [
      "     Symbol                 Company Name Security Type  Security Price  \\\n",
      "0       VHI                   Valhi Inc.  Common Stock           32.01   \n",
      "1      HCCI   Heritage-Crystal Clean Inc  Common Stock           26.82   \n",
      "2       MMI       Marcus & Millichap Inc  Common Stock           44.81   \n",
      "3      TMST             TimkenSteel Corp  Common Stock           19.65   \n",
      "4      SRTS        Sensus Healthcare Inc  Common Stock            7.41   \n",
      "...     ...                          ...           ...             ...   \n",
      "3056   AKYA        Akoya Biosciences Inc  Common Stock           11.32   \n",
      "3057   NPCE                Neuropace Inc  Common Stock            6.56   \n",
      "3058   TMCI  Treace Medical Concepts Inc  Common Stock           19.62   \n",
      "3059   RXST                  RxSight Inc  Common Stock           11.84   \n",
      "3060   PRCT     PROCEPT BioRobotics Corp  Common Stock           38.00   \n",
      "\n",
      "      Equity Summary Score Symbol                 Company Name  \\\n",
      "0                     10.0    VHI                   Valhi Inc.   \n",
      "1                     10.0   HCCI   Heritage-Crystal Clean Inc   \n",
      "2                     10.0    MMI       Marcus & Millichap Inc   \n",
      "3                     10.0   TMST             TimkenSteel Corp   \n",
      "4                     10.0   SRTS        Sensus Healthcare Inc   \n",
      "...                    ...    ...                          ...   \n",
      "3056                   0.1   AKYA        Akoya Biosciences Inc   \n",
      "3057                   0.1   NPCE                Neuropace Inc   \n",
      "3058                   0.1   TMCI  Treace Medical Concepts Inc   \n",
      "3059                   0.1   RXST                  RxSight Inc   \n",
      "3060                   0.1   PRCT     PROCEPT BioRobotics Corp   \n",
      "\n",
      "      Security Price  Volume (90 Day Avg) Market Capitalization  ...  \\\n",
      "0              32.01              0.02169              $905.15M  ...   \n",
      "1              26.82              0.06569              $649.10M  ...   \n",
      "2              44.81              0.15544                $1.78B  ...   \n",
      "3              19.65              0.80585              $911.41M  ...   \n",
      "4               7.41              0.35670              $123.58M  ...   \n",
      "...              ...                  ...                   ...  ...   \n",
      "3056           11.32              0.08187              $388.59M  ...   \n",
      "3057            6.56              0.06183              $176.49M  ...   \n",
      "3058           19.62              0.22525                $1.08B  ...   \n",
      "3059           11.84              0.11123              $331.21M  ...   \n",
      "3060           38.00              0.27449                $1.64B  ...   \n",
      "\n",
      "                     Company Name S&P Global Market Intelligence Valuation  \\\n",
      "0                      Valhi Inc.                                     99.0   \n",
      "1      Heritage-Crystal Clean Inc                                     95.0   \n",
      "2          Marcus & Millichap Inc                                     87.0   \n",
      "3                TimkenSteel Corp                                     97.0   \n",
      "4           Sensus Healthcare Inc                                     73.0   \n",
      "...                           ...                                      ...   \n",
      "3056        Akoya Biosciences Inc                                     39.0   \n",
      "3057                Neuropace Inc                                     20.0   \n",
      "3058  Treace Medical Concepts Inc                                     46.0   \n",
      "3059                  RxSight Inc                                     69.0   \n",
      "3060     PROCEPT BioRobotics Corp                                     40.0   \n",
      "\n",
      "     S&P Global Market Intelligence Quality  \\\n",
      "0                                      87.0   \n",
      "1                                      87.0   \n",
      "2                                      91.0   \n",
      "3                                      91.0   \n",
      "4                                      72.0   \n",
      "...                                     ...   \n",
      "3056                                   41.0   \n",
      "3057                                   51.0   \n",
      "3058                                   66.0   \n",
      "3059                                   16.0   \n",
      "3060                                   36.0   \n",
      "\n",
      "     S&P Global Market Intelligence Growth Stability  \\\n",
      "0                                               99.0   \n",
      "1                                               88.0   \n",
      "2                                               97.0   \n",
      "3                                               98.0   \n",
      "4                                               72.0   \n",
      "...                                              ...   \n",
      "3056                                            17.0   \n",
      "3057                                            43.0   \n",
      "3058                                            27.0   \n",
      "3059                                            12.0   \n",
      "3060                                            58.0   \n",
      "\n",
      "     S&P Global Market Intelligence Financial Health P/E (Price/TTM Earnings)  \\\n",
      "0                                               90.0                      7.2   \n",
      "1                                               84.0                     10.4   \n",
      "2                                               93.0                     12.6   \n",
      "3                                               90.0                      6.2   \n",
      "4                                               75.0                     29.6   \n",
      "...                                              ...                      ...   \n",
      "3056                                            38.0                      NaN   \n",
      "3057                                            32.0                      NaN   \n",
      "3058                                            21.0                      NaN   \n",
      "3059                                            15.0                      NaN   \n",
      "3060                                            11.0                      NaN   \n",
      "\n",
      "     PEG Ratio  EPS Growth (Proj This Yr vs. Last Yr)  \\\n",
      "0          NaN                               28.25112   \n",
      "1          NaN                              -20.07722   \n",
      "2          NaN                                5.35211   \n",
      "3          NaN                               15.73209   \n",
      "4          NaN                               98.00000   \n",
      "...        ...                                    ...   \n",
      "3056       NaN                               16.96970   \n",
      "3057       NaN                                9.76959   \n",
      "3058       NaN                              -65.11628   \n",
      "3059       NaN                               22.43697   \n",
      "3060       NaN                               49.44904   \n",
      "\n",
      "      Institutional Ownership  Institutional Ownership (Last vs. Prior Qtr)  \n",
      "0                      3.2412                                        1.4045  \n",
      "1                     61.0935                                       -1.2840  \n",
      "2                     58.4675                                        1.2496  \n",
      "3                     76.0441                                        0.6722  \n",
      "4                     17.7405                                      119.8586  \n",
      "...                       ...                                           ...  \n",
      "3056                  32.2730                                       22.3717  \n",
      "3057                  72.6227                                       59.9339  \n",
      "3058                  54.2581                                      120.8605  \n",
      "3059                  24.2504                                      -15.0582  \n",
      "3060                  66.9519                                        8.2837  \n",
      "\n",
      "[3061 rows x 32 columns]\n"
     ]
    }
   ],
   "source": [
    "df1_1 = pd.read_excel('data_raw.xls', sheet_name = 0)\n",
    "df1_2 = pd.read_excel('data_raw.xls', sheet_name = 1)\n",
    "df1_3 = pd.read_excel('data_raw.xls', sheet_name = \"Performance & Volatility\")\n",
    "df1_4 = pd.read_excel('data_raw.xls', sheet_name = \"Valuation, Growth & Ownership\")\n",
    "\n",
    "df1 = pd.concat([df1_1, df1_2, df1_3, df1_4], axis = 1)\n",
    "print(df1)"
   ]
  },
  {
   "cell_type": "code",
   "execution_count": 3,
   "id": "ca337c11",
   "metadata": {},
   "outputs": [
    {
     "data": {
      "text/plain": [
       "(3061, 32)"
      ]
     },
     "execution_count": 3,
     "metadata": {},
     "output_type": "execute_result"
    }
   ],
   "source": [
    "df1.shape"
   ]
  },
  {
   "cell_type": "code",
   "execution_count": 4,
   "id": "48236dca",
   "metadata": {},
   "outputs": [],
   "source": [
    "df1 = df1.loc[:,~df1.columns.duplicated()]"
   ]
  },
  {
   "cell_type": "code",
   "execution_count": 5,
   "id": "0b621596",
   "metadata": {},
   "outputs": [
    {
     "data": {
      "text/plain": [
       "(3061, 25)"
      ]
     },
     "execution_count": 5,
     "metadata": {},
     "output_type": "execute_result"
    }
   ],
   "source": [
    "df1.shape"
   ]
  },
  {
   "cell_type": "code",
   "execution_count": 6,
   "id": "ac2ed598",
   "metadata": {},
   "outputs": [
    {
     "data": {
      "text/plain": [
       "1524"
      ]
     },
     "execution_count": 6,
     "metadata": {},
     "output_type": "execute_result"
    }
   ],
   "source": [
    "df1['Dividend Yield'].isnull().sum()"
   ]
  },
  {
   "cell_type": "code",
   "execution_count": 7,
   "id": "c0591404",
   "metadata": {},
   "outputs": [
    {
     "data": {
      "text/plain": [
       "0"
      ]
     },
     "execution_count": 7,
     "metadata": {},
     "output_type": "execute_result"
    }
   ],
   "source": [
    "df1['Dividend Yield'] = df1['Dividend Yield'].fillna(0.00)\n",
    "df1['Dividend Yield'].isnull().sum()"
   ]
  },
  {
   "cell_type": "code",
   "execution_count": 8,
   "id": "d6fff204",
   "metadata": {},
   "outputs": [
    {
     "data": {
      "text/plain": [
       "0       $905.15M\n",
       "1       $649.10M\n",
       "2         $1.78B\n",
       "3       $911.41M\n",
       "4       $123.58M\n",
       "          ...   \n",
       "3056    $388.59M\n",
       "3057    $176.49M\n",
       "3058      $1.08B\n",
       "3059    $331.21M\n",
       "3060      $1.64B\n",
       "Name: Market Capitalization, Length: 3061, dtype: object"
      ]
     },
     "execution_count": 8,
     "metadata": {},
     "output_type": "execute_result"
    }
   ],
   "source": [
    "df1['Market Capitalization']"
   ]
  },
  {
   "cell_type": "code",
   "execution_count": 9,
   "id": "7ad505ab",
   "metadata": {},
   "outputs": [
    {
     "data": {
      "text/plain": [
       "0       905.15M\n",
       "1       649.10M\n",
       "2         1.78B\n",
       "3       911.41M\n",
       "4       123.58M\n",
       "         ...   \n",
       "3056    388.59M\n",
       "3057    176.49M\n",
       "3058      1.08B\n",
       "3059    331.21M\n",
       "3060      1.64B\n",
       "Name: Market Capitalization, Length: 3061, dtype: object"
      ]
     },
     "execution_count": 9,
     "metadata": {},
     "output_type": "execute_result"
    }
   ],
   "source": [
    "df1['Market Capitalization'] = df1['Market Capitalization'].replace({'\\$':''}, regex = True)\n",
    "df1['Market Capitalization']"
   ]
  },
  {
   "cell_type": "code",
   "execution_count": 10,
   "id": "2d54159e",
   "metadata": {},
   "outputs": [
    {
     "data": {
      "text/plain": [
       "0       9.051500e+08\n",
       "1       6.491000e+08\n",
       "2       1.780000e+09\n",
       "3       9.114100e+08\n",
       "4       1.235800e+08\n",
       "            ...     \n",
       "3056    3.885900e+08\n",
       "3057    1.764900e+08\n",
       "3058    1.080000e+09\n",
       "3059    3.312100e+08\n",
       "3060    1.640000e+09\n",
       "Name: Market Capitalization, Length: 3061, dtype: float64"
      ]
     },
     "execution_count": 10,
     "metadata": {},
     "output_type": "execute_result"
    }
   ],
   "source": [
    "df1['Market Capitalization'] = df1['Market Capitalization'].replace({\"K\":\"*1e3\", \"M\":\"*1e6\", \"B\":\"*1e9\", \"T\":\"*1e12\"}, regex=True).map(pd.eval).astype(float)\n",
    "df1['Market Capitalization']"
   ]
  },
  {
   "cell_type": "code",
   "execution_count": 11,
   "id": "7b4694b7",
   "metadata": {},
   "outputs": [
    {
     "data": {
      "text/plain": [
       "0       10.0\n",
       "1       10.0\n",
       "2       10.0\n",
       "3       10.0\n",
       "4       10.0\n",
       "        ... \n",
       "3056     0.1\n",
       "3057     0.1\n",
       "3058     0.1\n",
       "3059     0.1\n",
       "3060     0.1\n",
       "Name: Equity Summary Score, Length: 3061, dtype: float64"
      ]
     },
     "execution_count": 11,
     "metadata": {},
     "output_type": "execute_result"
    }
   ],
   "source": [
    "df1[\"Equity Summary Score\"]"
   ]
  },
  {
   "cell_type": "code",
   "execution_count": 12,
   "id": "350717c5",
   "metadata": {},
   "outputs": [],
   "source": [
    "def change_func(x):\n",
    "    if 0.1 <= x <= 1.0:\n",
    "        return \"very bullish\"\n",
    "    elif 1.1 <= x <= 3.0:\n",
    "        return \"bearish\"\n",
    "    elif 3.1 <= x <= 7.0:\n",
    "        return \"neutral\"\n",
    "    elif 7.1 <= x <= 9.0:\n",
    "        return \"bullish\"\n",
    "    elif 9.1 <= x <= 10.0:\n",
    "        return \"very bullish\""
   ]
  },
  {
   "cell_type": "code",
   "execution_count": 13,
   "id": "3c48c958",
   "metadata": {},
   "outputs": [
    {
     "data": {
      "text/plain": [
       "0       very bullish\n",
       "1       very bullish\n",
       "2       very bullish\n",
       "3       very bullish\n",
       "4       very bullish\n",
       "            ...     \n",
       "3056    very bullish\n",
       "3057    very bullish\n",
       "3058    very bullish\n",
       "3059    very bullish\n",
       "3060    very bullish\n",
       "Name: Analyst Sentiment, Length: 3061, dtype: object"
      ]
     },
     "execution_count": 13,
     "metadata": {},
     "output_type": "execute_result"
    }
   ],
   "source": [
    "df1[\"Analyst Sentiment\"] = df1[\"Equity Summary Score\"].apply(lambda x: change_func(x))\n",
    "df1[\"Analyst Sentiment\"]"
   ]
  },
  {
   "cell_type": "code",
   "execution_count": 14,
   "id": "2d87d309",
   "metadata": {},
   "outputs": [
    {
     "name": "stdout",
     "output_type": "stream",
     "text": [
      "<class 'pandas.core.frame.DataFrame'>\n",
      "RangeIndex: 3061 entries, 0 to 3060\n",
      "Data columns (total 26 columns):\n",
      " #   Column                                           Non-Null Count  Dtype  \n",
      "---  ------                                           --------------  -----  \n",
      " 0   Symbol                                           3061 non-null   object \n",
      " 1   Company Name                                     3061 non-null   object \n",
      " 2   Security Type                                    3061 non-null   object \n",
      " 3   Security Price                                   3061 non-null   float64\n",
      " 4   Equity Summary Score                             3061 non-null   float64\n",
      " 5   Volume (90 Day Avg)                              3057 non-null   float64\n",
      " 6   Market Capitalization                            3061 non-null   float64\n",
      " 7   Dividend Yield                                   3061 non-null   float64\n",
      " 8   Company Headquarters Location                    3061 non-null   object \n",
      " 9   Sector                                           3060 non-null   object \n",
      " 10  Industry                                         3060 non-null   object \n",
      " 11  Optionable                                       3061 non-null   object \n",
      " 12  Price Performance (52 Weeks)                     2988 non-null   float64\n",
      " 13  Total Return (1 Yr Annualized)                   2988 non-null   float64\n",
      " 14  Beta (1 Year Annualized)                         2988 non-null   float64\n",
      " 15  Standard Deviation (1 Yr Annualized)             2990 non-null   float64\n",
      " 16  S&P Global Market Intelligence Valuation         3047 non-null   float64\n",
      " 17  S&P Global Market Intelligence Quality           3044 non-null   float64\n",
      " 18  S&P Global Market Intelligence Growth Stability  3046 non-null   float64\n",
      " 19  S&P Global Market Intelligence Financial Health  2989 non-null   float64\n",
      " 20  P/E (Price/TTM Earnings)                         2145 non-null   float64\n",
      " 21  PEG Ratio                                        836 non-null    float64\n",
      " 22  EPS Growth (Proj This Yr vs. Last Yr)            2763 non-null   float64\n",
      " 23  Institutional Ownership                          2981 non-null   float64\n",
      " 24  Institutional Ownership (Last vs. Prior Qtr)     3060 non-null   float64\n",
      " 25  Analyst Sentiment                                3061 non-null   object \n",
      "dtypes: float64(18), object(8)\n",
      "memory usage: 621.9+ KB\n"
     ]
    }
   ],
   "source": [
    "df1.info()"
   ]
  },
  {
   "cell_type": "code",
   "execution_count": 15,
   "id": "8239d017",
   "metadata": {},
   "outputs": [],
   "source": [
    "df1_sanity = pd.read_csv('data_prepared.csv')"
   ]
  },
  {
   "cell_type": "code",
   "execution_count": 16,
   "id": "f476f51b",
   "metadata": {},
   "outputs": [
    {
     "name": "stdout",
     "output_type": "stream",
     "text": [
      "<class 'pandas.core.frame.DataFrame'>\n",
      "RangeIndex: 3061 entries, 0 to 3060\n",
      "Data columns (total 27 columns):\n",
      " #   Column                                           Non-Null Count  Dtype  \n",
      "---  ------                                           --------------  -----  \n",
      " 0   Unnamed: 0                                       3061 non-null   int64  \n",
      " 1   Symbol                                           3061 non-null   object \n",
      " 2   Company Name                                     3061 non-null   object \n",
      " 3   Security Type                                    3061 non-null   object \n",
      " 4   Security Price                                   3061 non-null   float64\n",
      " 5   Equity Summary Score                             3061 non-null   float64\n",
      " 6   Volume (90 Day Avg)                              3057 non-null   float64\n",
      " 7   Market Capitalization                            3061 non-null   int64  \n",
      " 8   Dividend Yield                                   3061 non-null   float64\n",
      " 9   Company Headquarters Location                    3061 non-null   object \n",
      " 10  Sector                                           3060 non-null   object \n",
      " 11  Industry                                         3060 non-null   object \n",
      " 12  Optionable                                       3061 non-null   object \n",
      " 13  Price Performance (52 Weeks)                     2988 non-null   float64\n",
      " 14  Total Return (1 Yr Annualized)                   2988 non-null   float64\n",
      " 15  Beta (1 Year Annualized)                         2988 non-null   float64\n",
      " 16  Standard Deviation (1 Yr Annualized)             2990 non-null   float64\n",
      " 17  S&P Global Market Intelligence Valuation         3047 non-null   float64\n",
      " 18  S&P Global Market Intelligence Quality           3044 non-null   float64\n",
      " 19  S&P Global Market Intelligence Growth Stability  3046 non-null   float64\n",
      " 20  S&P Global Market Intelligence Financial Health  2989 non-null   float64\n",
      " 21  P/E (Price/TTM Earnings)                         2145 non-null   float64\n",
      " 22  PEG Ratio                                        836 non-null    float64\n",
      " 23  EPS Growth (Proj This Yr vs. Last Yr)            2763 non-null   float64\n",
      " 24  Institutional Ownership                          2981 non-null   float64\n",
      " 25  Institutional Ownership (Last vs. Prior Qtr)     3060 non-null   float64\n",
      " 26  Analyst Sentiment                                3061 non-null   object \n",
      "dtypes: float64(17), int64(2), object(8)\n",
      "memory usage: 645.8+ KB\n"
     ]
    }
   ],
   "source": [
    "df1_sanity.info()"
   ]
  },
  {
   "cell_type": "code",
   "execution_count": 17,
   "id": "47943300",
   "metadata": {},
   "outputs": [
    {
     "data": {
      "text/plain": [
       "Unnamed: 0                                            0\n",
       "Symbol                                                0\n",
       "Company Name                                          0\n",
       "Security Type                                         0\n",
       "Security Price                                        0\n",
       "Equity Summary Score                                  0\n",
       "Volume (90 Day Avg)                                   4\n",
       "Market Capitalization                                 0\n",
       "Dividend Yield                                        0\n",
       "Company Headquarters Location                         0\n",
       "Sector                                                1\n",
       "Industry                                              1\n",
       "Optionable                                            0\n",
       "Price Performance (52 Weeks)                         73\n",
       "Total Return (1 Yr Annualized)                       73\n",
       "Beta (1 Year Annualized)                             73\n",
       "Standard Deviation (1 Yr Annualized)                 71\n",
       "S&P Global Market Intelligence Valuation             14\n",
       "S&P Global Market Intelligence Quality               17\n",
       "S&P Global Market Intelligence Growth Stability      15\n",
       "S&P Global Market Intelligence Financial Health      72\n",
       "P/E (Price/TTM Earnings)                            916\n",
       "PEG Ratio                                          2225\n",
       "EPS Growth (Proj This Yr vs. Last Yr)               298\n",
       "Institutional Ownership                              80\n",
       "Institutional Ownership (Last vs. Prior Qtr)          1\n",
       "Analyst Sentiment                                     0\n",
       "dtype: int64"
      ]
     },
     "execution_count": 17,
     "metadata": {},
     "output_type": "execute_result"
    }
   ],
   "source": [
    "df1_sanity.isnull().sum()"
   ]
  },
  {
   "cell_type": "code",
   "execution_count": 18,
   "id": "1f74c609",
   "metadata": {},
   "outputs": [
    {
     "data": {
      "text/plain": [
       "Symbol                                                0\n",
       "Company Name                                          0\n",
       "Security Type                                         0\n",
       "Security Price                                        0\n",
       "Equity Summary Score                                  0\n",
       "Volume (90 Day Avg)                                   4\n",
       "Market Capitalization                                 0\n",
       "Dividend Yield                                        0\n",
       "Company Headquarters Location                         0\n",
       "Sector                                                1\n",
       "Industry                                              1\n",
       "Optionable                                            0\n",
       "Price Performance (52 Weeks)                         73\n",
       "Total Return (1 Yr Annualized)                       73\n",
       "Beta (1 Year Annualized)                             73\n",
       "Standard Deviation (1 Yr Annualized)                 71\n",
       "S&P Global Market Intelligence Valuation             14\n",
       "S&P Global Market Intelligence Quality               17\n",
       "S&P Global Market Intelligence Growth Stability      15\n",
       "S&P Global Market Intelligence Financial Health      72\n",
       "P/E (Price/TTM Earnings)                            916\n",
       "PEG Ratio                                          2225\n",
       "EPS Growth (Proj This Yr vs. Last Yr)               298\n",
       "Institutional Ownership                              80\n",
       "Institutional Ownership (Last vs. Prior Qtr)          1\n",
       "Analyst Sentiment                                     0\n",
       "dtype: int64"
      ]
     },
     "execution_count": 18,
     "metadata": {},
     "output_type": "execute_result"
    }
   ],
   "source": [
    "df1.isnull().sum()"
   ]
  }
 ],
 "metadata": {
  "kernelspec": {
   "display_name": "env_ds_3_10",
   "language": "python",
   "name": "env_ds_3_10"
  },
  "language_info": {
   "codemirror_mode": {
    "name": "ipython",
    "version": 3
   },
   "file_extension": ".py",
   "mimetype": "text/x-python",
   "name": "python",
   "nbconvert_exporter": "python",
   "pygments_lexer": "ipython3",
   "version": "3.10.1"
  }
 },
 "nbformat": 4,
 "nbformat_minor": 5
}
