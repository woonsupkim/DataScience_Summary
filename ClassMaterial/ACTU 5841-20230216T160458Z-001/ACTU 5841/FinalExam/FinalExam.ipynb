{
 "cells": [
  {
   "cell_type": "code",
   "execution_count": 1,
   "id": "e28ab6ef",
   "metadata": {},
   "outputs": [],
   "source": [
    "#Importing libraries\n",
    "import pandas as pd\n",
    "import numpy as np\n",
    "import matplotlib.pyplot as plt\n",
    "import warnings\n",
    "warnings.filterwarnings(\"ignore\")"
   ]
  },
  {
   "cell_type": "markdown",
   "id": "4be9ea16",
   "metadata": {},
   "source": [
    "### Problem 1"
   ]
  },
  {
   "cell_type": "code",
   "execution_count": 2,
   "id": "c022d51d",
   "metadata": {},
   "outputs": [
    {
     "name": "stdout",
     "output_type": "stream",
     "text": [
      "     Symbol                 Company Name Security Type  Security Price  \\\n",
      "0       VHI                   Valhi Inc.  Common Stock           32.01   \n",
      "1      HCCI   Heritage-Crystal Clean Inc  Common Stock           26.82   \n",
      "2       MMI       Marcus & Millichap Inc  Common Stock           44.81   \n",
      "3      TMST             TimkenSteel Corp  Common Stock           19.65   \n",
      "4      SRTS        Sensus Healthcare Inc  Common Stock            7.41   \n",
      "...     ...                          ...           ...             ...   \n",
      "3056   AKYA        Akoya Biosciences Inc  Common Stock           11.32   \n",
      "3057   NPCE                Neuropace Inc  Common Stock            6.56   \n",
      "3058   TMCI  Treace Medical Concepts Inc  Common Stock           19.62   \n",
      "3059   RXST                  RxSight Inc  Common Stock           11.84   \n",
      "3060   PRCT     PROCEPT BioRobotics Corp  Common Stock           38.00   \n",
      "\n",
      "      Equity Summary Score Symbol                 Company Name  \\\n",
      "0                     10.0    VHI                   Valhi Inc.   \n",
      "1                     10.0   HCCI   Heritage-Crystal Clean Inc   \n",
      "2                     10.0    MMI       Marcus & Millichap Inc   \n",
      "3                     10.0   TMST             TimkenSteel Corp   \n",
      "4                     10.0   SRTS        Sensus Healthcare Inc   \n",
      "...                    ...    ...                          ...   \n",
      "3056                   0.1   AKYA        Akoya Biosciences Inc   \n",
      "3057                   0.1   NPCE                Neuropace Inc   \n",
      "3058                   0.1   TMCI  Treace Medical Concepts Inc   \n",
      "3059                   0.1   RXST                  RxSight Inc   \n",
      "3060                   0.1   PRCT     PROCEPT BioRobotics Corp   \n",
      "\n",
      "      Security Price  Volume (90 Day Avg) Market Capitalization  ...  \\\n",
      "0              32.01              0.02169              $905.15M  ...   \n",
      "1              26.82              0.06569              $649.10M  ...   \n",
      "2              44.81              0.15544                $1.78B  ...   \n",
      "3              19.65              0.80585              $911.41M  ...   \n",
      "4               7.41              0.35670              $123.58M  ...   \n",
      "...              ...                  ...                   ...  ...   \n",
      "3056           11.32              0.08187              $388.59M  ...   \n",
      "3057            6.56              0.06183              $176.49M  ...   \n",
      "3058           19.62              0.22525                $1.08B  ...   \n",
      "3059           11.84              0.11123              $331.21M  ...   \n",
      "3060           38.00              0.27449                $1.64B  ...   \n",
      "\n",
      "                     Company Name S&P Global Market Intelligence Valuation  \\\n",
      "0                      Valhi Inc.                                     99.0   \n",
      "1      Heritage-Crystal Clean Inc                                     95.0   \n",
      "2          Marcus & Millichap Inc                                     87.0   \n",
      "3                TimkenSteel Corp                                     97.0   \n",
      "4           Sensus Healthcare Inc                                     73.0   \n",
      "...                           ...                                      ...   \n",
      "3056        Akoya Biosciences Inc                                     39.0   \n",
      "3057                Neuropace Inc                                     20.0   \n",
      "3058  Treace Medical Concepts Inc                                     46.0   \n",
      "3059                  RxSight Inc                                     69.0   \n",
      "3060     PROCEPT BioRobotics Corp                                     40.0   \n",
      "\n",
      "     S&P Global Market Intelligence Quality  \\\n",
      "0                                      87.0   \n",
      "1                                      87.0   \n",
      "2                                      91.0   \n",
      "3                                      91.0   \n",
      "4                                      72.0   \n",
      "...                                     ...   \n",
      "3056                                   41.0   \n",
      "3057                                   51.0   \n",
      "3058                                   66.0   \n",
      "3059                                   16.0   \n",
      "3060                                   36.0   \n",
      "\n",
      "     S&P Global Market Intelligence Growth Stability  \\\n",
      "0                                               99.0   \n",
      "1                                               88.0   \n",
      "2                                               97.0   \n",
      "3                                               98.0   \n",
      "4                                               72.0   \n",
      "...                                              ...   \n",
      "3056                                            17.0   \n",
      "3057                                            43.0   \n",
      "3058                                            27.0   \n",
      "3059                                            12.0   \n",
      "3060                                            58.0   \n",
      "\n",
      "     S&P Global Market Intelligence Financial Health P/E (Price/TTM Earnings)  \\\n",
      "0                                               90.0                      7.2   \n",
      "1                                               84.0                     10.4   \n",
      "2                                               93.0                     12.6   \n",
      "3                                               90.0                      6.2   \n",
      "4                                               75.0                     29.6   \n",
      "...                                              ...                      ...   \n",
      "3056                                            38.0                      NaN   \n",
      "3057                                            32.0                      NaN   \n",
      "3058                                            21.0                      NaN   \n",
      "3059                                            15.0                      NaN   \n",
      "3060                                            11.0                      NaN   \n",
      "\n",
      "     PEG Ratio  EPS Growth (Proj This Yr vs. Last Yr)  \\\n",
      "0          NaN                               28.25112   \n",
      "1          NaN                              -20.07722   \n",
      "2          NaN                                5.35211   \n",
      "3          NaN                               15.73209   \n",
      "4          NaN                               98.00000   \n",
      "...        ...                                    ...   \n",
      "3056       NaN                               16.96970   \n",
      "3057       NaN                                9.76959   \n",
      "3058       NaN                              -65.11628   \n",
      "3059       NaN                               22.43697   \n",
      "3060       NaN                               49.44904   \n",
      "\n",
      "      Institutional Ownership  Institutional Ownership (Last vs. Prior Qtr)  \n",
      "0                      3.2412                                        1.4045  \n",
      "1                     61.0935                                       -1.2840  \n",
      "2                     58.4675                                        1.2496  \n",
      "3                     76.0441                                        0.6722  \n",
      "4                     17.7405                                      119.8586  \n",
      "...                       ...                                           ...  \n",
      "3056                  32.2730                                       22.3717  \n",
      "3057                  72.6227                                       59.9339  \n",
      "3058                  54.2581                                      120.8605  \n",
      "3059                  24.2504                                      -15.0582  \n",
      "3060                  66.9519                                        8.2837  \n",
      "\n",
      "[3061 rows x 32 columns]\n"
     ]
    }
   ],
   "source": [
    "df1_1 = pd.read_excel('data_raw.xls', sheet_name = 0)\n",
    "df1_2 = pd.read_excel('data_raw.xls', sheet_name = 1)\n",
    "df1_3 = pd.read_excel('data_raw.xls', sheet_name = \"Performance & Volatility\")\n",
    "df1_4 = pd.read_excel('data_raw.xls', sheet_name = \"Valuation, Growth & Ownership\")\n",
    "\n",
    "df1 = pd.concat([df1_1, df1_2, df1_3, df1_4], axis = 1)\n",
    "print(df1)"
   ]
  },
  {
   "cell_type": "code",
   "execution_count": 3,
   "id": "2610a281",
   "metadata": {},
   "outputs": [
    {
     "data": {
      "text/plain": [
       "(3061, 32)"
      ]
     },
     "execution_count": 3,
     "metadata": {},
     "output_type": "execute_result"
    }
   ],
   "source": [
    "df1.shape"
   ]
  },
  {
   "cell_type": "code",
   "execution_count": 4,
   "id": "6998365f",
   "metadata": {},
   "outputs": [],
   "source": [
    "df1 = df1.loc[:,~df1.columns.duplicated()]"
   ]
  },
  {
   "cell_type": "code",
   "execution_count": 5,
   "id": "c647b9b2",
   "metadata": {},
   "outputs": [
    {
     "data": {
      "text/plain": [
       "(3061, 25)"
      ]
     },
     "execution_count": 5,
     "metadata": {},
     "output_type": "execute_result"
    }
   ],
   "source": [
    "df1.shape"
   ]
  },
  {
   "cell_type": "code",
   "execution_count": 6,
   "id": "e2bb5bad",
   "metadata": {},
   "outputs": [
    {
     "data": {
      "text/plain": [
       "1524"
      ]
     },
     "execution_count": 6,
     "metadata": {},
     "output_type": "execute_result"
    }
   ],
   "source": [
    "df1['Dividend Yield'].isnull().sum()"
   ]
  },
  {
   "cell_type": "code",
   "execution_count": 7,
   "id": "3484f2e6",
   "metadata": {},
   "outputs": [
    {
     "data": {
      "text/plain": [
       "0"
      ]
     },
     "execution_count": 7,
     "metadata": {},
     "output_type": "execute_result"
    }
   ],
   "source": [
    "df1['Dividend Yield'] = df1['Dividend Yield'].fillna(0.00)\n",
    "df1['Dividend Yield'].isnull().sum()"
   ]
  },
  {
   "cell_type": "code",
   "execution_count": 8,
   "id": "960ae657",
   "metadata": {},
   "outputs": [
    {
     "data": {
      "text/plain": [
       "0       $905.15M\n",
       "1       $649.10M\n",
       "2         $1.78B\n",
       "3       $911.41M\n",
       "4       $123.58M\n",
       "          ...   \n",
       "3056    $388.59M\n",
       "3057    $176.49M\n",
       "3058      $1.08B\n",
       "3059    $331.21M\n",
       "3060      $1.64B\n",
       "Name: Market Capitalization, Length: 3061, dtype: object"
      ]
     },
     "execution_count": 8,
     "metadata": {},
     "output_type": "execute_result"
    }
   ],
   "source": [
    "df1['Market Capitalization']"
   ]
  },
  {
   "cell_type": "code",
   "execution_count": 9,
   "id": "24dcabe8",
   "metadata": {},
   "outputs": [
    {
     "data": {
      "text/plain": [
       "0       905.15M\n",
       "1       649.10M\n",
       "2         1.78B\n",
       "3       911.41M\n",
       "4       123.58M\n",
       "         ...   \n",
       "3056    388.59M\n",
       "3057    176.49M\n",
       "3058      1.08B\n",
       "3059    331.21M\n",
       "3060      1.64B\n",
       "Name: Market Capitalization, Length: 3061, dtype: object"
      ]
     },
     "execution_count": 9,
     "metadata": {},
     "output_type": "execute_result"
    }
   ],
   "source": [
    "df1['Market Capitalization'] = df1['Market Capitalization'].replace({'\\$':''}, regex = True)\n",
    "df1['Market Capitalization']"
   ]
  },
  {
   "cell_type": "code",
   "execution_count": 10,
   "id": "d30acf81",
   "metadata": {},
   "outputs": [
    {
     "data": {
      "text/plain": [
       "0       9.051500e+08\n",
       "1       6.491000e+08\n",
       "2       1.780000e+09\n",
       "3       9.114100e+08\n",
       "4       1.235800e+08\n",
       "            ...     \n",
       "3056    3.885900e+08\n",
       "3057    1.764900e+08\n",
       "3058    1.080000e+09\n",
       "3059    3.312100e+08\n",
       "3060    1.640000e+09\n",
       "Name: Market Capitalization, Length: 3061, dtype: float64"
      ]
     },
     "execution_count": 10,
     "metadata": {},
     "output_type": "execute_result"
    }
   ],
   "source": [
    "df1['Market Capitalization'] = df1['Market Capitalization'].replace({\"K\":\"*1e3\", \"M\":\"*1e6\", \"B\":\"*1e9\", \"T\":\"*1e12\"}, regex=True).map(pd.eval).astype(float)\n",
    "df1['Market Capitalization']"
   ]
  },
  {
   "cell_type": "code",
   "execution_count": 11,
   "id": "b367961c",
   "metadata": {},
   "outputs": [
    {
     "data": {
      "text/plain": [
       "0       10.0\n",
       "1       10.0\n",
       "2       10.0\n",
       "3       10.0\n",
       "4       10.0\n",
       "        ... \n",
       "3056     0.1\n",
       "3057     0.1\n",
       "3058     0.1\n",
       "3059     0.1\n",
       "3060     0.1\n",
       "Name: Equity Summary Score, Length: 3061, dtype: float64"
      ]
     },
     "execution_count": 11,
     "metadata": {},
     "output_type": "execute_result"
    }
   ],
   "source": [
    "df1[\"Equity Summary Score\"]"
   ]
  },
  {
   "cell_type": "code",
   "execution_count": 12,
   "id": "fb0a9f84",
   "metadata": {},
   "outputs": [],
   "source": [
    "def change_func(x):\n",
    "    if 0.1 <= x <= 1.0:\n",
    "        return \"very bullish\"\n",
    "    elif 1.1 <= x <= 3.0:\n",
    "        return \"bearish\"\n",
    "    elif 3.1 <= x <= 7.0:\n",
    "        return \"neutral\"\n",
    "    elif 7.1 <= x <= 9.0:\n",
    "        return \"bullish\"\n",
    "    elif 9.1 <= x <= 10.0:\n",
    "        return \"very bullish\""
   ]
  },
  {
   "cell_type": "code",
   "execution_count": 13,
   "id": "79c83cf8",
   "metadata": {},
   "outputs": [
    {
     "data": {
      "text/plain": [
       "0       very bullish\n",
       "1       very bullish\n",
       "2       very bullish\n",
       "3       very bullish\n",
       "4       very bullish\n",
       "            ...     \n",
       "3056    very bullish\n",
       "3057    very bullish\n",
       "3058    very bullish\n",
       "3059    very bullish\n",
       "3060    very bullish\n",
       "Name: Analyst Sentiment, Length: 3061, dtype: object"
      ]
     },
     "execution_count": 13,
     "metadata": {},
     "output_type": "execute_result"
    }
   ],
   "source": [
    "df1[\"Analyst Sentiment\"] = df1[\"Equity Summary Score\"].apply(lambda x: change_func(x))\n",
    "df1[\"Analyst Sentiment\"]"
   ]
  },
  {
   "cell_type": "code",
   "execution_count": 14,
   "id": "a091cb24",
   "metadata": {},
   "outputs": [
    {
     "name": "stdout",
     "output_type": "stream",
     "text": [
      "<class 'pandas.core.frame.DataFrame'>\n",
      "RangeIndex: 3061 entries, 0 to 3060\n",
      "Data columns (total 26 columns):\n",
      " #   Column                                           Non-Null Count  Dtype  \n",
      "---  ------                                           --------------  -----  \n",
      " 0   Symbol                                           3061 non-null   object \n",
      " 1   Company Name                                     3061 non-null   object \n",
      " 2   Security Type                                    3061 non-null   object \n",
      " 3   Security Price                                   3061 non-null   float64\n",
      " 4   Equity Summary Score                             3061 non-null   float64\n",
      " 5   Volume (90 Day Avg)                              3057 non-null   float64\n",
      " 6   Market Capitalization                            3061 non-null   float64\n",
      " 7   Dividend Yield                                   3061 non-null   float64\n",
      " 8   Company Headquarters Location                    3061 non-null   object \n",
      " 9   Sector                                           3060 non-null   object \n",
      " 10  Industry                                         3060 non-null   object \n",
      " 11  Optionable                                       3061 non-null   object \n",
      " 12  Price Performance (52 Weeks)                     2988 non-null   float64\n",
      " 13  Total Return (1 Yr Annualized)                   2988 non-null   float64\n",
      " 14  Beta (1 Year Annualized)                         2988 non-null   float64\n",
      " 15  Standard Deviation (1 Yr Annualized)             2990 non-null   float64\n",
      " 16  S&P Global Market Intelligence Valuation         3047 non-null   float64\n",
      " 17  S&P Global Market Intelligence Quality           3044 non-null   float64\n",
      " 18  S&P Global Market Intelligence Growth Stability  3046 non-null   float64\n",
      " 19  S&P Global Market Intelligence Financial Health  2989 non-null   float64\n",
      " 20  P/E (Price/TTM Earnings)                         2145 non-null   float64\n",
      " 21  PEG Ratio                                        836 non-null    float64\n",
      " 22  EPS Growth (Proj This Yr vs. Last Yr)            2763 non-null   float64\n",
      " 23  Institutional Ownership                          2981 non-null   float64\n",
      " 24  Institutional Ownership (Last vs. Prior Qtr)     3060 non-null   float64\n",
      " 25  Analyst Sentiment                                3061 non-null   object \n",
      "dtypes: float64(18), object(8)\n",
      "memory usage: 621.9+ KB\n"
     ]
    }
   ],
   "source": [
    "df1.info()"
   ]
  },
  {
   "cell_type": "code",
   "execution_count": 15,
   "id": "8842bd96",
   "metadata": {},
   "outputs": [],
   "source": [
    "df1_sanity = pd.read_csv('data_prepared.csv')"
   ]
  },
  {
   "cell_type": "code",
   "execution_count": 16,
   "id": "53f05b57",
   "metadata": {},
   "outputs": [
    {
     "name": "stdout",
     "output_type": "stream",
     "text": [
      "<class 'pandas.core.frame.DataFrame'>\n",
      "RangeIndex: 3061 entries, 0 to 3060\n",
      "Data columns (total 27 columns):\n",
      " #   Column                                           Non-Null Count  Dtype  \n",
      "---  ------                                           --------------  -----  \n",
      " 0   Unnamed: 0                                       3061 non-null   int64  \n",
      " 1   Symbol                                           3061 non-null   object \n",
      " 2   Company Name                                     3061 non-null   object \n",
      " 3   Security Type                                    3061 non-null   object \n",
      " 4   Security Price                                   3061 non-null   float64\n",
      " 5   Equity Summary Score                             3061 non-null   float64\n",
      " 6   Volume (90 Day Avg)                              3057 non-null   float64\n",
      " 7   Market Capitalization                            3061 non-null   int64  \n",
      " 8   Dividend Yield                                   3061 non-null   float64\n",
      " 9   Company Headquarters Location                    3061 non-null   object \n",
      " 10  Sector                                           3060 non-null   object \n",
      " 11  Industry                                         3060 non-null   object \n",
      " 12  Optionable                                       3061 non-null   object \n",
      " 13  Price Performance (52 Weeks)                     2988 non-null   float64\n",
      " 14  Total Return (1 Yr Annualized)                   2988 non-null   float64\n",
      " 15  Beta (1 Year Annualized)                         2988 non-null   float64\n",
      " 16  Standard Deviation (1 Yr Annualized)             2990 non-null   float64\n",
      " 17  S&P Global Market Intelligence Valuation         3047 non-null   float64\n",
      " 18  S&P Global Market Intelligence Quality           3044 non-null   float64\n",
      " 19  S&P Global Market Intelligence Growth Stability  3046 non-null   float64\n",
      " 20  S&P Global Market Intelligence Financial Health  2989 non-null   float64\n",
      " 21  P/E (Price/TTM Earnings)                         2145 non-null   float64\n",
      " 22  PEG Ratio                                        836 non-null    float64\n",
      " 23  EPS Growth (Proj This Yr vs. Last Yr)            2763 non-null   float64\n",
      " 24  Institutional Ownership                          2981 non-null   float64\n",
      " 25  Institutional Ownership (Last vs. Prior Qtr)     3060 non-null   float64\n",
      " 26  Analyst Sentiment                                3061 non-null   object \n",
      "dtypes: float64(17), int64(2), object(8)\n",
      "memory usage: 645.8+ KB\n"
     ]
    }
   ],
   "source": [
    "df1_sanity.info()"
   ]
  },
  {
   "cell_type": "code",
   "execution_count": 17,
   "id": "bacd4aca",
   "metadata": {},
   "outputs": [
    {
     "data": {
      "text/plain": [
       "Unnamed: 0                                            0\n",
       "Symbol                                                0\n",
       "Company Name                                          0\n",
       "Security Type                                         0\n",
       "Security Price                                        0\n",
       "Equity Summary Score                                  0\n",
       "Volume (90 Day Avg)                                   4\n",
       "Market Capitalization                                 0\n",
       "Dividend Yield                                        0\n",
       "Company Headquarters Location                         0\n",
       "Sector                                                1\n",
       "Industry                                              1\n",
       "Optionable                                            0\n",
       "Price Performance (52 Weeks)                         73\n",
       "Total Return (1 Yr Annualized)                       73\n",
       "Beta (1 Year Annualized)                             73\n",
       "Standard Deviation (1 Yr Annualized)                 71\n",
       "S&P Global Market Intelligence Valuation             14\n",
       "S&P Global Market Intelligence Quality               17\n",
       "S&P Global Market Intelligence Growth Stability      15\n",
       "S&P Global Market Intelligence Financial Health      72\n",
       "P/E (Price/TTM Earnings)                            916\n",
       "PEG Ratio                                          2225\n",
       "EPS Growth (Proj This Yr vs. Last Yr)               298\n",
       "Institutional Ownership                              80\n",
       "Institutional Ownership (Last vs. Prior Qtr)          1\n",
       "Analyst Sentiment                                     0\n",
       "dtype: int64"
      ]
     },
     "execution_count": 17,
     "metadata": {},
     "output_type": "execute_result"
    }
   ],
   "source": [
    "df1_sanity.isnull().sum()"
   ]
  },
  {
   "cell_type": "code",
   "execution_count": 18,
   "id": "ff959028",
   "metadata": {},
   "outputs": [
    {
     "data": {
      "text/plain": [
       "Symbol                                                0\n",
       "Company Name                                          0\n",
       "Security Type                                         0\n",
       "Security Price                                        0\n",
       "Equity Summary Score                                  0\n",
       "Volume (90 Day Avg)                                   4\n",
       "Market Capitalization                                 0\n",
       "Dividend Yield                                        0\n",
       "Company Headquarters Location                         0\n",
       "Sector                                                1\n",
       "Industry                                              1\n",
       "Optionable                                            0\n",
       "Price Performance (52 Weeks)                         73\n",
       "Total Return (1 Yr Annualized)                       73\n",
       "Beta (1 Year Annualized)                             73\n",
       "Standard Deviation (1 Yr Annualized)                 71\n",
       "S&P Global Market Intelligence Valuation             14\n",
       "S&P Global Market Intelligence Quality               17\n",
       "S&P Global Market Intelligence Growth Stability      15\n",
       "S&P Global Market Intelligence Financial Health      72\n",
       "P/E (Price/TTM Earnings)                            916\n",
       "PEG Ratio                                          2225\n",
       "EPS Growth (Proj This Yr vs. Last Yr)               298\n",
       "Institutional Ownership                              80\n",
       "Institutional Ownership (Last vs. Prior Qtr)          1\n",
       "Analyst Sentiment                                     0\n",
       "dtype: int64"
      ]
     },
     "execution_count": 18,
     "metadata": {},
     "output_type": "execute_result"
    }
   ],
   "source": [
    "df1.isnull().sum()"
   ]
  },
  {
   "cell_type": "markdown",
   "id": "ac4d2b72",
   "metadata": {},
   "source": [
    "### Problem 2"
   ]
  },
  {
   "cell_type": "code",
   "execution_count": 19,
   "id": "35954ac1",
   "metadata": {},
   "outputs": [],
   "source": [
    "#Reading data file\n",
    "df2 = pd.read_csv('data_prepared.csv')"
   ]
  },
  {
   "cell_type": "code",
   "execution_count": 20,
   "id": "69741d55",
   "metadata": {},
   "outputs": [],
   "source": [
    "df2 = df2.loc[df2['Security Type'] == 'Common Stock']"
   ]
  },
  {
   "cell_type": "code",
   "execution_count": 21,
   "id": "924fd376",
   "metadata": {},
   "outputs": [],
   "source": [
    "df2 = df2.dropna()"
   ]
  },
  {
   "cell_type": "code",
   "execution_count": 22,
   "id": "56978b61",
   "metadata": {},
   "outputs": [],
   "source": [
    "#Select appropriate features\n",
    "features = [\"Security Price\", \"Volume (90 Day Avg)\", \"Market Capitalization\", \"Dividend Yield\", \"Total Return (1 Yr Annualized)\", \"Beta (1 Year Annualized)\", \"Standard Deviation (1 Yr Annualized)\", \"S&P Global Market Intelligence Valuation\", \"S&P Global Market Intelligence Quality\", \"S&P Global Market Intelligence Growth Stability\", \"S&P Global Market Intelligence Financial Health\", \"Institutional Ownership\", \"Institutional Ownership (Last vs. Prior Qtr)\"]\n",
    "\n",
    "X = df2.copy()\n",
    "y = X.pop('Analyst Sentiment')\n",
    "X = X.loc[:, features]"
   ]
  },
  {
   "cell_type": "code",
   "execution_count": 23,
   "id": "e3b1cb06",
   "metadata": {},
   "outputs": [
    {
     "data": {
      "text/plain": [
       "neutral         289\n",
       "bearish         175\n",
       "bullish         149\n",
       "very bullish     68\n",
       "very bearish     45\n",
       "Name: Analyst Sentiment, dtype: int64"
      ]
     },
     "execution_count": 23,
     "metadata": {},
     "output_type": "execute_result"
    }
   ],
   "source": [
    "y.value_counts()"
   ]
  },
  {
   "cell_type": "code",
   "execution_count": 24,
   "id": "640abf81",
   "metadata": {},
   "outputs": [
    {
     "name": "stdout",
     "output_type": "stream",
     "text": [
      "Cross-validation error rate:0.6199771689497717\n"
     ]
    }
   ],
   "source": [
    "from sklearn.linear_model import LogisticRegression\n",
    "\n",
    "model = LogisticRegression()\n",
    "\n",
    "from sklearn.model_selection import cross_val_score\n",
    "accuracy = cross_val_score(model, X, y, cv = 10, scoring='accuracy')\n",
    "error_rate = 1 - (1/10)*np.sum(accuracy)\n",
    "print('Cross-validation error rate:{}'.format(error_rate))"
   ]
  },
  {
   "cell_type": "code",
   "execution_count": 25,
   "id": "d4d38147",
   "metadata": {},
   "outputs": [],
   "source": [
    "# 10-Fold Cross Validation\n",
    "def cross_validation_clas (df, func):\n",
    "    from sklearn.model_selection import KFold\n",
    "    kf = KFold(n_splits = 10, shuffle = True, random_state = 10)\n",
    "    kf_accuracy = []\n",
    "    \n",
    "    for train, test in kf.split(df):\n",
    "        X_train = df.iloc[train].loc[:, df.columns != 'Analyst Sentiment']\n",
    "        X_train = X_train.squeeze()\n",
    "        X_test = df.iloc[test].loc[:, df.columns != 'Analyst Sentiment']\n",
    "        y_train = df.iloc[train].loc[:,'Analyst Sentiment']\n",
    "        y_test = df.iloc[test].loc[:,'Analyst Sentiment']\n",
    "        \n",
    "        reg = func.fit(X_train, y_train)\n",
    "        y_hat = reg.predict(X_test)\n",
    "        \n",
    "        from sklearn.metrics import accuracy_score\n",
    "        kf_accuracy.append(accuracy_score(y_test, y_hat))\n",
    "                \n",
    "    kf_ACCURACY = (1/10) * np.sum(kf_accuracy)\n",
    "        \n",
    "    return (kf_ACCURACY)"
   ]
  },
  {
   "cell_type": "code",
   "execution_count": 26,
   "id": "0122e0d7",
   "metadata": {},
   "outputs": [
    {
     "data": {
      "text/plain": [
       "0.6018835616438356"
      ]
     },
     "execution_count": 26,
     "metadata": {},
     "output_type": "execute_result"
    }
   ],
   "source": [
    "df2_2 = pd.concat([X, y], axis = 1)\n",
    "model_cv_accuracy = cross_validation_clas(df2_2, LogisticRegression())\n",
    "1-model_cv_accuracy"
   ]
  },
  {
   "cell_type": "markdown",
   "id": "15d97673",
   "metadata": {},
   "source": [
    "### Problem 3"
   ]
  },
  {
   "cell_type": "code",
   "execution_count": 27,
   "id": "6d01114f",
   "metadata": {},
   "outputs": [],
   "source": [
    "#Reading data file\n",
    "df3 = pd.read_csv('data_prepared.csv')"
   ]
  },
  {
   "cell_type": "code",
   "execution_count": 28,
   "id": "59ce9b07",
   "metadata": {},
   "outputs": [],
   "source": [
    "df3 = df3.loc[df3['Security Type'] == 'Common Stock']"
   ]
  },
  {
   "cell_type": "code",
   "execution_count": 29,
   "id": "5d9185b0",
   "metadata": {},
   "outputs": [],
   "source": [
    "df3 = df3.dropna()"
   ]
  },
  {
   "cell_type": "code",
   "execution_count": 30,
   "id": "94df871d",
   "metadata": {},
   "outputs": [],
   "source": [
    "#Select appropriate features\n",
    "features3 = [\"Security Price\", \"Volume (90 Day Avg)\", \"Market Capitalization\", \"Dividend Yield\", \"Total Return (1 Yr Annualized)\", \"Beta (1 Year Annualized)\", \"Standard Deviation (1 Yr Annualized)\", \"S&P Global Market Intelligence Valuation\", \"S&P Global Market Intelligence Quality\", \"S&P Global Market Intelligence Growth Stability\", \"S&P Global Market Intelligence Financial Health\", \"Institutional Ownership\", \"Institutional Ownership (Last vs. Prior Qtr)\"]\n",
    "\n",
    "X3 = df3.copy()\n",
    "y3 = X3.pop('Equity Summary Score')\n",
    "X3 = X3.loc[:, features3]\n",
    "\n",
    "# Standardize\n",
    "X3_scaled = (X3 - X3.mean(axis=0)) / X3.std(axis=0)"
   ]
  },
  {
   "cell_type": "code",
   "execution_count": 31,
   "id": "d37ea1a6",
   "metadata": {},
   "outputs": [
    {
     "data": {
      "text/plain": [
       "array([[-3.82945293e-02, -1.06459373e-01, -9.93556736e-02,\n",
       "         2.04309002e-01, -5.52529672e-02, -2.10848575e-01,\n",
       "        -1.84345810e-01, -5.59222000e-01, -4.93120014e-01,\n",
       "        -2.48923782e-01, -4.65112777e-01, -9.72633414e-02,\n",
       "         1.02191622e-01],\n",
       "       [ 7.82242861e-02, -1.97747063e-01, -1.75788512e-01,\n",
       "        -4.33439610e-01, -2.81397526e-01,  5.21983071e-01,\n",
       "         4.78283172e-01, -1.27739192e-01, -1.72179913e-01,\n",
       "        -7.56572924e-02, -1.75876549e-01,  2.66303947e-01,\n",
       "         4.54122661e-02],\n",
       "       [ 3.36246343e-01,  5.13559863e-01,  5.99247148e-01,\n",
       "        -6.25030957e-02,  1.30461704e-01,  2.19018140e-01,\n",
       "         1.54610024e-01, -1.84206579e-01, -9.27376646e-02,\n",
       "         1.85249008e-01, -2.07795344e-01, -2.26383614e-01,\n",
       "         4.40928826e-03],\n",
       "       [ 6.32863149e-01, -3.21623966e-01,  1.66448110e-01,\n",
       "        -2.48884601e-01,  3.98851355e-02, -1.78550199e-01,\n",
       "        -3.96651875e-01, -3.46370708e-02,  1.77353986e-01,\n",
       "         2.39949629e-02, -1.40112653e-01,  4.02201056e-01,\n",
       "        -3.10300993e-02],\n",
       "       [-1.01316731e-01, -1.73654112e-01, -2.57122810e-01,\n",
       "        -2.32887417e-02,  6.28997982e-01, -6.98235245e-03,\n",
       "         1.55944217e-01, -1.53045188e-01, -1.18188583e-02,\n",
       "         6.04955469e-01, -2.20110197e-01,  6.66614914e-02,\n",
       "        -1.74622342e-01],\n",
       "       [-4.41962875e-02,  7.69457208e-04, -4.92053821e-03,\n",
       "        -1.29303290e-01,  2.09860851e-01, -8.22677834e-02,\n",
       "         4.75461111e-02,  7.55516598e-03,  9.03992197e-02,\n",
       "         3.97987294e-02,  2.09973751e-02,  2.13675707e-02,\n",
       "         9.57873606e-01],\n",
       "       [-3.83606852e-01,  4.12482386e-01,  1.65854669e-01,\n",
       "        -5.54075718e-02,  3.15757766e-02, -1.01124995e-01,\n",
       "        -1.18847058e-01,  3.11342431e-02, -2.23055439e-01,\n",
       "         2.53411113e-02, -1.32399839e-02,  7.57801348e-01,\n",
       "        -3.12242721e-02],\n",
       "       [-8.95713084e-02,  1.06221979e-01, -1.44977995e-02,\n",
       "        -3.58860189e-01,  5.28798112e-01, -1.06004183e-01,\n",
       "         1.32822778e-01, -1.38744831e-02,  2.11799366e-01,\n",
       "        -6.72170333e-01, -1.11242817e-01, -6.52293095e-02,\n",
       "        -1.72344346e-01],\n",
       "       [ 3.43839137e-01, -8.13099184e-02, -1.20576956e-02,\n",
       "         6.21832568e-01,  3.24975985e-01,  2.30509559e-01,\n",
       "         2.48561068e-01, -5.61834936e-03, -1.61625301e-01,\n",
       "        -2.62145194e-01,  2.92768949e-01,  2.91191478e-01,\n",
       "         4.93459325e-02],\n",
       "       [ 9.69327733e-02, -1.11091282e-01,  7.99093838e-02,\n",
       "        -3.92407386e-01,  1.26576938e-01, -2.38842675e-01,\n",
       "         2.64350628e-02, -2.00024489e-02, -6.18060523e-01,\n",
       "         5.67285604e-02,  5.78795106e-01, -1.44627159e-01,\n",
       "        -5.08872637e-02],\n",
       "       [ 2.48890296e-01,  1.66609115e-01, -2.44906674e-01,\n",
       "         1.77087208e-02,  2.41271458e-02, -1.50391419e-01,\n",
       "         7.12404087e-02,  7.18376024e-01, -3.64339564e-01,\n",
       "        -1.79042962e-02, -4.09696119e-01, -6.17588732e-02,\n",
       "         3.05645189e-02],\n",
       "       [-3.47399381e-01, -5.57485973e-01,  6.06555536e-01,\n",
       "         7.12019454e-02,  1.13829134e-01,  1.68960386e-01,\n",
       "        -3.00504005e-02,  3.02080632e-01, -1.46190006e-01,\n",
       "        -5.45864597e-02, -1.88658109e-01, -4.34885429e-02,\n",
       "         6.99795445e-03],\n",
       "       [ 3.44596777e-02, -1.15298911e-01,  2.10120507e-01,\n",
       "         9.68648453e-02, -2.08989586e-01, -6.43118860e-01,\n",
       "         6.55148438e-01, -5.85783837e-02,  1.48226953e-01,\n",
       "         4.65972922e-02, -6.57815290e-02,  1.08507342e-01,\n",
       "        -4.25706248e-02]])"
      ]
     },
     "execution_count": 31,
     "metadata": {},
     "output_type": "execute_result"
    }
   ],
   "source": [
    "from sklearn.decomposition import PCA\n",
    "from sklearn.preprocessing import StandardScaler\n",
    "\n",
    "pca_s = PCA().fit(StandardScaler().fit_transform(X3)) \n",
    "pca_s.components_"
   ]
  },
  {
   "cell_type": "markdown",
   "id": "a596f9b4",
   "metadata": {},
   "source": [
    "#### Part a"
   ]
  },
  {
   "cell_type": "code",
   "execution_count": 32,
   "id": "b446d76f",
   "metadata": {},
   "outputs": [],
   "source": [
    "# plotting variance\n",
    "def plot_variance(pca, width=8, dpi=100):\n",
    "    # Create figure\n",
    "    fig, axs = plt.subplots(1, 2)\n",
    "    n = pca.n_components_\n",
    "    grid = np.arange(1, n + 1)\n",
    "    # Explained variance\n",
    "    evr = pca.explained_variance_ratio_\n",
    "    axs[0].bar(grid, evr)\n",
    "    axs[0].set(\n",
    "        xlabel=\"Component\", title=\"% Explained Variance\", ylim=(0.0, 1.0)\n",
    "    )\n",
    "    # Cumulative Variance\n",
    "    cv = np.cumsum(evr)\n",
    "    axs[1].plot(np.r_[0, grid], np.r_[0, cv], \"o-\")\n",
    "    axs[1].set(\n",
    "        xlabel=\"Component\", title=\"% Cumulative Variance\", ylim=(0.0, 1.0)\n",
    "    )\n",
    "    # Set up figure\n",
    "    fig.set(figwidth=8, dpi=100)\n",
    "    return axs"
   ]
  },
  {
   "cell_type": "code",
   "execution_count": 33,
   "id": "6987e258",
   "metadata": {},
   "outputs": [
    {
     "data": {
      "image/png": "[encoded data removed]",
      "text/plain": [
       "<Figure size 800x400 with 2 Axes>"
      ]
     },
     "metadata": {
      "needs_background": "light"
     },
     "output_type": "display_data"
    }
   ],
   "source": [
    "# Look at explained variance\n",
    "plot_variance(pca_s);"
   ]
  },
  {
   "cell_type": "markdown",
   "id": "784f2536",
   "metadata": {},
   "source": [
    "#### Part b"
   ]
  },
  {
   "cell_type": "code",
   "execution_count": 34,
   "id": "270445d8",
   "metadata": {},
   "outputs": [],
   "source": [
    "# 10-Fold Cross Validation\n",
    "def cross_validation (df, func):\n",
    "    from sklearn.model_selection import KFold\n",
    "    kf = KFold(n_splits = 10, shuffle = True, random_state = 10)\n",
    "    kf_rmse = []\n",
    "    \n",
    "    for train, test in kf.split(df):\n",
    "        X_train = df.iloc[train].loc[:, df.columns != 'Equity Summary Score']\n",
    "        X_train = X_train.squeeze()\n",
    "        X_test = df.iloc[test].loc[:, df.columns != 'Equity Summary Score']\n",
    "        y_train = df.iloc[train].loc[:,'Equity Summary Score']\n",
    "        y_test = df.iloc[test].loc[:,'Equity Summary Score']\n",
    "        \n",
    "        reg = func.fit(X_train, y_train)\n",
    "        y_hat = reg.predict(X_test)\n",
    "        \n",
    "        from sklearn.metrics import mean_squared_error\n",
    "        kf_rmse.append(mean_squared_error(y_test, y_hat, squared=False))\n",
    "        \n",
    "    kf_RMSE = (1/10) * np.sum(kf_rmse)\n",
    "        \n",
    "    return (kf_RMSE)"
   ]
  },
  {
   "cell_type": "code",
   "execution_count": 35,
   "id": "56c6fc3f",
   "metadata": {},
   "outputs": [],
   "source": [
    "from sklearn.pipeline import make_pipeline\n",
    "from sklearn.linear_model import LinearRegression\n",
    "\n",
    "mse3 = []\n",
    "\n",
    "df_3 = pd.concat([X3_scaled, y3], axis = 1)\n",
    "\n",
    "for i in range(1,14,1):\n",
    "    reg = make_pipeline(PCA(n_components=i), LinearRegression()).fit(X3_scaled, y3)\n",
    "    y_hat = reg.predict(X3_scaled)\n",
    "    mse3.append(cross_validation(df_3,make_pipeline(PCA(n_components=i), LinearRegression())))"
   ]
  },
  {
   "cell_type": "code",
   "execution_count": 36,
   "id": "275c08a0",
   "metadata": {},
   "outputs": [
    {
     "data": {
      "text/html": [
       "<div>\n",
       "<style scoped>\n",
       "    .dataframe tbody tr th:only-of-type {\n",
       "        vertical-align: middle;\n",
       "    }\n",
       "\n",
       "    .dataframe tbody tr th {\n",
       "        vertical-align: top;\n",
       "    }\n",
       "\n",
       "    .dataframe thead th {\n",
       "        text-align: right;\n",
       "    }\n",
       "</style>\n",
       "<table border=\"1\" class=\"dataframe\">\n",
       "  <thead>\n",
       "    <tr style=\"text-align: right;\">\n",
       "      <th></th>\n",
       "      <th>PC</th>\n",
       "      <th>rmse</th>\n",
       "    </tr>\n",
       "  </thead>\n",
       "  <tbody>\n",
       "    <tr>\n",
       "      <th>11</th>\n",
       "      <td>12.0</td>\n",
       "      <td>2.159135</td>\n",
       "    </tr>\n",
       "  </tbody>\n",
       "</table>\n",
       "</div>"
      ],
      "text/plain": [
       "      PC      rmse\n",
       "11  12.0  2.159135"
      ]
     },
     "execution_count": 36,
     "metadata": {},
     "output_type": "execute_result"
    }
   ],
   "source": [
    "rmse_PCR = pd.DataFrame(zip(np.linspace(1,len(mse3),len(mse3)), mse3), columns = ['PC','rmse'])\n",
    "rmse_PCR.loc[rmse_PCR['rmse'] == rmse_PCR['rmse'].min()]"
   ]
  },
  {
   "cell_type": "markdown",
   "id": "e3b80767",
   "metadata": {},
   "source": [
    "#### Part b1"
   ]
  },
  {
   "cell_type": "code",
   "execution_count": 37,
   "id": "e8cfeac9",
   "metadata": {},
   "outputs": [
    {
     "data": {
      "image/png": "[encoded data removed]",
      "text/plain": [
       "<Figure size 432x288 with 1 Axes>"
      ]
     },
     "metadata": {
      "needs_background": "light"
     },
     "output_type": "display_data"
    }
   ],
   "source": [
    "x = rmse_PCR['PC']\n",
    "y = rmse_PCR['rmse']\n",
    "\n",
    "plt.plot(x, y)\n",
    "plt.xlim(1, 13) \n",
    "plt.ylabel('10-CV RMSE')\n",
    "plt.xlabel('PCs')\n",
    "plt.grid()\n",
    "plt.show()"
   ]
  },
  {
   "cell_type": "markdown",
   "id": "ba5e79f2",
   "metadata": {},
   "source": [
    "#### Part b2"
   ]
  },
  {
   "cell_type": "code",
   "execution_count": 38,
   "id": "ae1b1bf1",
   "metadata": {},
   "outputs": [],
   "source": [
    "#The optimal number of PCs to include in the PCR is 12 as it returned the lowest 10-CV RMSE\n",
    "#However, looking at the cumulated % of variance explained plot, one may find it desirable to select the minimum\n",
    "#number of PCs that can sufficiently explain the variance in the data (ex. 7 PCs explain 80% of the variance)"
   ]
  },
  {
   "cell_type": "markdown",
   "id": "d6b55ddc",
   "metadata": {},
   "source": [
    "#### Part b3"
   ]
  },
  {
   "cell_type": "code",
   "execution_count": 39,
   "id": "df17676c",
   "metadata": {},
   "outputs": [
    {
     "name": "stdout",
     "output_type": "stream",
     "text": [
      "PC_s\n",
      " [[-3.82945293e-02 -1.06459373e-01 -9.93556736e-02  2.04309002e-01\n",
      "  -5.52529672e-02 -2.10848575e-01 -1.84345810e-01 -5.59222000e-01\n",
      "  -4.93120014e-01 -2.48923782e-01 -4.65112777e-01 -9.72633414e-02\n",
      "   1.02191622e-01]\n",
      " [ 7.82242861e-02 -1.97747063e-01 -1.75788512e-01 -4.33439610e-01\n",
      "  -2.81397526e-01  5.21983071e-01  4.78283172e-01 -1.27739192e-01\n",
      "  -1.72179913e-01 -7.56572924e-02 -1.75876549e-01  2.66303947e-01\n",
      "   4.54122661e-02]\n",
      " [ 3.36246343e-01  5.13559863e-01  5.99247148e-01 -6.25030957e-02\n",
      "   1.30461704e-01  2.19018140e-01  1.54610024e-01 -1.84206579e-01\n",
      "  -9.27376646e-02  1.85249008e-01 -2.07795344e-01 -2.26383614e-01\n",
      "   4.40928826e-03]\n",
      " [ 6.32863149e-01 -3.21623966e-01  1.66448110e-01 -2.48884601e-01\n",
      "   3.98851355e-02 -1.78550199e-01 -3.96651875e-01 -3.46370708e-02\n",
      "   1.77353986e-01  2.39949629e-02 -1.40112653e-01  4.02201056e-01\n",
      "  -3.10300993e-02]\n",
      " [-1.01316731e-01 -1.73654112e-01 -2.57122810e-01 -2.32887417e-02\n",
      "   6.28997982e-01 -6.98235245e-03  1.55944217e-01 -1.53045188e-01\n",
      "  -1.18188583e-02  6.04955469e-01 -2.20110197e-01  6.66614914e-02\n",
      "  -1.74622342e-01]\n",
      " [-4.41962875e-02  7.69457208e-04 -4.92053821e-03 -1.29303290e-01\n",
      "   2.09860851e-01 -8.22677834e-02  4.75461111e-02  7.55516598e-03\n",
      "   9.03992197e-02  3.97987294e-02  2.09973751e-02  2.13675707e-02\n",
      "   9.57873606e-01]\n",
      " [-3.83606852e-01  4.12482386e-01  1.65854669e-01 -5.54075718e-02\n",
      "   3.15757766e-02 -1.01124995e-01 -1.18847058e-01  3.11342431e-02\n",
      "  -2.23055439e-01  2.53411113e-02 -1.32399839e-02  7.57801348e-01\n",
      "  -3.12242721e-02]\n",
      " [-8.95713084e-02  1.06221979e-01 -1.44977995e-02 -3.58860189e-01\n",
      "   5.28798112e-01 -1.06004183e-01  1.32822778e-01 -1.38744831e-02\n",
      "   2.11799366e-01 -6.72170333e-01 -1.11242817e-01 -6.52293095e-02\n",
      "  -1.72344346e-01]\n",
      " [ 3.43839137e-01 -8.13099184e-02 -1.20576956e-02  6.21832568e-01\n",
      "   3.24975985e-01  2.30509559e-01  2.48561068e-01 -5.61834936e-03\n",
      "  -1.61625301e-01 -2.62145194e-01  2.92768949e-01  2.91191478e-01\n",
      "   4.93459325e-02]\n",
      " [ 9.69327733e-02 -1.11091282e-01  7.99093838e-02 -3.92407386e-01\n",
      "   1.26576938e-01 -2.38842675e-01  2.64350628e-02 -2.00024489e-02\n",
      "  -6.18060523e-01  5.67285604e-02  5.78795106e-01 -1.44627159e-01\n",
      "  -5.08872637e-02]\n",
      " [ 2.48890296e-01  1.66609115e-01 -2.44906674e-01  1.77087208e-02\n",
      "   2.41271458e-02 -1.50391419e-01  7.12404087e-02  7.18376024e-01\n",
      "  -3.64339564e-01 -1.79042962e-02 -4.09696119e-01 -6.17588732e-02\n",
      "   3.05645189e-02]\n",
      " [-3.47399381e-01 -5.57485973e-01  6.06555536e-01  7.12019454e-02\n",
      "   1.13829134e-01  1.68960386e-01 -3.00504005e-02  3.02080632e-01\n",
      "  -1.46190006e-01 -5.45864597e-02 -1.88658109e-01 -4.34885429e-02\n",
      "   6.99795445e-03]]\n"
     ]
    }
   ],
   "source": [
    "# PCA\n",
    "from sklearn.preprocessing import StandardScaler\n",
    "\n",
    "pca_s2 = PCA(n_components = 12).fit(StandardScaler().fit_transform(X3))    \n",
    "print('PC_s\\n', pca_s2.components_)  # each row is a PC"
   ]
  }
 ],
 "metadata": {
  "kernelspec": {
   "display_name": "env_ds_3_10",
   "language": "python",
   "name": "env_ds_3_10"
  },
  "language_info": {
   "codemirror_mode": {
    "name": "ipython",
    "version": 3
   },
   "file_extension": ".py",
   "mimetype": "text/x-python",
   "name": "python",
   "nbconvert_exporter": "python",
   "pygments_lexer": "ipython3",
   "version": "3.10.1"
  }
 },
 "nbformat": 4,
 "nbformat_minor": 5
}
