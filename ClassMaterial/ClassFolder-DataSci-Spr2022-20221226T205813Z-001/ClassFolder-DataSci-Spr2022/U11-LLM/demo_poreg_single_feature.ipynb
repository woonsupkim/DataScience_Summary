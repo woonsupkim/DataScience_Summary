{
 "cells": [
  {
   "cell_type": "code",
   "execution_count": 15,
   "id": "6cc4e924",
   "metadata": {},
   "outputs": [],
   "source": [
    "from sklearn.linear_model import PoissonRegressor\n",
    "import numpy as np\n",
    "import pandas as pd\n",
    "from scipy.special import factorial"
   ]
  },
  {
   "cell_type": "code",
   "execution_count": 16,
   "id": "7fccf6e3",
   "metadata": {},
   "outputs": [],
   "source": [
    "df = pd.read_csv('data.csv')\n",
    "X = df.age.values.reshape(-1,1)\n",
    "y = df.accidents.values\n",
    "y_skl = y/df.personyears.values   # need to handle exposure manually in skl"
   ]
  },
  {
   "cell_type": "code",
   "execution_count": 17,
   "id": "f2b4c998",
   "metadata": {
    "scrolled": true
   },
   "outputs": [
    {
     "name": "stdout",
     "output_type": "stream",
     "text": [
      "beta =  [[ 6.10267484 -0.1839723 ]]\n",
      "fitted occurance rate =  [0.85865918 0.41136582 0.1134857  4.49680641 9.38635125]\n",
      "fitted y =  [ 5.15195507  2.05682911  0.4539428  13.49041923 18.77270251]\n"
     ]
    }
   ],
   "source": [
    "res = PoissonRegressor(alpha=0.0).fit(X,y_skl)\n",
    "beta = np.array([res.intercept_, res.coef_[0]]).reshape(-1,1)\n",
    "print('beta = ', beta.T)\n",
    "print('fitted occurance rate = ', res.predict(X))\n",
    "print('fitted y = ', df.personyears.values*res.predict(X))"
   ]
  },
  {
   "cell_type": "code",
   "execution_count": 18,
   "id": "9bd9bfc1",
   "metadata": {},
   "outputs": [
    {
     "name": "stdout",
     "output_type": "stream",
     "text": [
      "log_likelihood =  -8.656411974760776\n"
     ]
    }
   ],
   "source": [
    "mu = (df.personyears.values * np.exp(beta[0] + X.dot(beta[1]))).reshape(-1,1)\n",
    "log_mu = np.log(mu)\n",
    "l = y.reshape(-1,1)*log_mu - mu - np.log(factorial(y.reshape(-1,1)))\n",
    "log_likelihood = l.sum()\n",
    "print('log_likelihood = ', log_likelihood)#match"
   ]
  },
  {
   "cell_type": "code",
   "execution_count": null,
   "id": "ba7dd246",
   "metadata": {},
   "outputs": [],
   "source": []
  },
  {
   "cell_type": "code",
   "execution_count": 19,
   "id": "a8c5517e",
   "metadata": {},
   "outputs": [
    {
     "name": "stdout",
     "output_type": "stream",
     "text": [
      "beta =  [ 6.18835659 -0.18730852]\n",
      "log-likelihood =  -8.649522123148905\n",
      "fitted y =  [ 5.01095509  1.97401771  0.42560983 13.5211617  19.06825567]\n",
      "log_likelihood =  -8.649522123148905\n"
     ]
    },
    {
     "name": "stderr",
     "output_type": "stream",
     "text": [
      "C:\\Users\\Zoom\\Documents\\env_ds_310\\lib\\site-packages\\statsmodels\\base\\model.py:127: ValueWarning: unknown kwargs ['link']\n",
      "  warnings.warn(msg, ValueWarning)\n",
      "C:\\Users\\Zoom\\Documents\\env_ds_310\\lib\\site-packages\\statsmodels\\base\\model.py:127: ValueWarning: unknown kwargs ['link']\n",
      "  warnings.warn(msg, ValueWarning)\n"
     ]
    }
   ],
   "source": [
    "# matches R output\n",
    "import statsmodels.api as sm\n",
    "X_c = np.hstack((np.ones((X.shape[0],1)), X))\n",
    "sm_res=sm.GLM(y, X_c, family = sm.families.Poisson(), link='log', exposure = df.personyears.values).fit()\n",
    "print('beta = ', sm_res.params)\n",
    "print('log-likelihood = ', sm.GLM(y, X_c,family = sm.families.Poisson(), link='log', exposure = df.personyears.values).loglike(sm_res.params))\n",
    "print('fitted y = ', df.personyears.values*sm_res.predict(X_c))\n",
    "\n",
    "beta = sm_res.params.reshape(-1,1)\n",
    "mu = (df.personyears.values * np.exp(beta[0] + X.dot(beta[1]))).reshape(-1,1)\n",
    "log_mu = np.log(mu)\n",
    "l = y.reshape(-1,1)*log_mu - mu - np.log(factorial(y.reshape(-1,1)))\n",
    "log_likelihood = l.sum()\n",
    "print('log_likelihood = ', log_likelihood)#match\n"
   ]
  },
  {
   "cell_type": "code",
   "execution_count": null,
   "id": "d4a44887",
   "metadata": {},
   "outputs": [],
   "source": [
    "print(sm_res.summary())"
   ]
  },
  {
   "cell_type": "code",
   "execution_count": 20,
   "id": "4e339567",
   "metadata": {},
   "outputs": [
    {
     "name": "stderr",
     "output_type": "stream",
     "text": [
      "C:\\Users\\Zoom\\Documents\\env_ds_310\\lib\\site-packages\\statsmodels\\base\\model.py:127: ValueWarning: unknown kwargs ['link']\n",
      "  warnings.warn(msg, ValueWarning)\n"
     ]
    },
    {
     "data": {
      "text/plain": [
       "0.9999971698310279"
      ]
     },
     "execution_count": 20,
     "metadata": {},
     "output_type": "execute_result"
    }
   ],
   "source": [
    "sm_res.pseudo_rsquared()"
   ]
  },
  {
   "cell_type": "code",
   "execution_count": null,
   "id": "6a94a27e",
   "metadata": {},
   "outputs": [],
   "source": []
  }
 ],
 "metadata": {
  "kernelspec": {
   "display_name": "env_ds_310",
   "language": "python",
   "name": "env_ds_310"
  },
  "language_info": {
   "codemirror_mode": {
    "name": "ipython",
    "version": 3
   },
   "file_extension": ".py",
   "mimetype": "text/x-python",
   "name": "python",
   "nbconvert_exporter": "python",
   "pygments_lexer": "ipython3",
   "version": "3.10.2"
  }
 },
 "nbformat": 4,
 "nbformat_minor": 5
}
